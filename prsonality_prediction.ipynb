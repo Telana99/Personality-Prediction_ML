{
 "cells": [
  {
   "cell_type": "markdown",
   "metadata": {},
   "source": [
    "### Personality Prediction\n",
    "#### Group 54\n",
    "#### EG/2020/4038 Kuruwitaarachchi K.A.D.T.T.\n",
    "#### EG/2020/4050 Madhumali W.H."
   ]
  },
  {
   "cell_type": "markdown",
   "metadata": {},
   "source": [
    "<img src= \"image2.jpg\" style=\"width:900px\"/>"
   ]
  },
  {
   "cell_type": "markdown",
   "metadata": {},
   "source": [
    "# IMPORT THE LIBRARIES"
   ]
  },
  {
   "cell_type": "code",
   "execution_count": 1,
   "metadata": {},
   "outputs": [],
   "source": [
    "import pandas as pd\n",
    "import numpy as numpy\n",
    "import seaborn as sns\n",
    "import matplotlib.pyplot as plt\n",
    "from sklearn.feature_extraction.text import CountVectorizer\n",
    "from sklearn.feature_extraction.text import TfidfVectorizer \n",
    "from sklearn.model_selection import train_test_split\n",
    "import string\n",
    "import re\n",
    "import nltk\n",
    "from nltk.corpus import stopwords\n",
    "from sklearn.linear_model import LogisticRegression\n",
    "from sklearn.multiclass import OneVsRestClassifier\n",
    "from sklearn.naive_bayes import MultinomialNB\n",
    "from sklearn.metrics import classification_report, accuracy_score\n",
    "\n",
    "\n",
    "\n"
   ]
  },
  {
   "cell_type": "code",
   "execution_count": 2,
   "metadata": {},
   "outputs": [],
   "source": [
    "# laod the data file\n",
    "data = pd.read_csv('mbti_clean_train.csv',encoding='latin1')"
   ]
  },
  {
   "cell_type": "code",
   "execution_count": 3,
   "metadata": {},
   "outputs": [
    {
     "data": {
      "text/plain": [
       "(8675, 3)"
      ]
     },
     "execution_count": 3,
     "metadata": {},
     "output_type": "execute_result"
    }
   ],
   "source": [
    "#get the no of data points and columns\n",
    "data.shape\n"
   ]
  },
  {
   "cell_type": "code",
   "execution_count": 4,
   "metadata": {},
   "outputs": [
    {
     "data": {
      "text/plain": [
       "Index(['Unnamed: 0', 'type', 'posts'], dtype='object')"
      ]
     },
     "execution_count": 4,
     "metadata": {},
     "output_type": "execute_result"
    }
   ],
   "source": [
    "#columns of the dataset\n",
    "data.columns\n",
    "\n"
   ]
  },
  {
   "cell_type": "code",
   "execution_count": 5,
   "metadata": {},
   "outputs": [
    {
     "data": {
      "text/plain": [
       "8675"
      ]
     },
     "execution_count": 5,
     "metadata": {},
     "output_type": "execute_result"
    }
   ],
   "source": [
    "len(data)"
   ]
  },
  {
   "cell_type": "code",
   "execution_count": 6,
   "metadata": {},
   "outputs": [
    {
     "data": {
      "text/html": [
       "<div>\n",
       "<style scoped>\n",
       "    .dataframe tbody tr th:only-of-type {\n",
       "        vertical-align: middle;\n",
       "    }\n",
       "\n",
       "    .dataframe tbody tr th {\n",
       "        vertical-align: top;\n",
       "    }\n",
       "\n",
       "    .dataframe thead th {\n",
       "        text-align: right;\n",
       "    }\n",
       "</style>\n",
       "<table border=\"1\" class=\"dataframe\">\n",
       "  <thead>\n",
       "    <tr style=\"text-align: right;\">\n",
       "      <th></th>\n",
       "      <th>Unnamed: 0</th>\n",
       "      <th>type</th>\n",
       "      <th>posts</th>\n",
       "    </tr>\n",
       "  </thead>\n",
       "  <tbody>\n",
       "    <tr>\n",
       "      <th>0</th>\n",
       "      <td>0</td>\n",
       "      <td>INFJ</td>\n",
       "      <td>http www tube com watch v qsxhcwekrw http medi...</td>\n",
       "    </tr>\n",
       "    <tr>\n",
       "      <th>1</th>\n",
       "      <td>1</td>\n",
       "      <td>ENTP</td>\n",
       "      <td>im find lack post alarm sex bore posit often e...</td>\n",
       "    </tr>\n",
       "    <tr>\n",
       "      <th>2</th>\n",
       "      <td>2</td>\n",
       "      <td>INTP</td>\n",
       "      <td>good one http www youtub com watch v fhigbolff...</td>\n",
       "    </tr>\n",
       "    <tr>\n",
       "      <th>3</th>\n",
       "      <td>3</td>\n",
       "      <td>INTJ</td>\n",
       "      <td>dear enjoy convers day esoter gab natur univer...</td>\n",
       "    </tr>\n",
       "    <tr>\n",
       "      <th>4</th>\n",
       "      <td>4</td>\n",
       "      <td>ENTJ</td>\n",
       "      <td>fire anoth silli misconcept approach logic go ...</td>\n",
       "    </tr>\n",
       "  </tbody>\n",
       "</table>\n",
       "</div>"
      ],
      "text/plain": [
       "   Unnamed: 0  type                                              posts\n",
       "0           0  INFJ  http www tube com watch v qsxhcwekrw http medi...\n",
       "1           1  ENTP  im find lack post alarm sex bore posit often e...\n",
       "2           2  INTP  good one http www youtub com watch v fhigbolff...\n",
       "3           3  INTJ  dear enjoy convers day esoter gab natur univer...\n",
       "4           4  ENTJ  fire anoth silli misconcept approach logic go ..."
      ]
     },
     "execution_count": 6,
     "metadata": {},
     "output_type": "execute_result"
    }
   ],
   "source": [
    "# show first five datapoints\n",
    "data.head()"
   ]
  },
  {
   "cell_type": "code",
   "execution_count": 7,
   "metadata": {},
   "outputs": [
    {
     "data": {
      "text/plain": [
       "RangeIndex(start=0, stop=8675, step=1)"
      ]
     },
     "execution_count": 7,
     "metadata": {},
     "output_type": "execute_result"
    }
   ],
   "source": [
    "data.index"
   ]
  },
  {
   "cell_type": "code",
   "execution_count": 8,
   "metadata": {},
   "outputs": [
    {
     "name": "stdout",
     "output_type": "stream",
     "text": [
      "<class 'pandas.core.frame.DataFrame'>\n",
      "RangeIndex: 8675 entries, 0 to 8674\n",
      "Data columns (total 3 columns):\n",
      " #   Column      Non-Null Count  Dtype \n",
      "---  ------      --------------  ----- \n",
      " 0   Unnamed: 0  8675 non-null   int64 \n",
      " 1   type        8675 non-null   object\n",
      " 2   posts       8675 non-null   object\n",
      "dtypes: int64(1), object(2)\n",
      "memory usage: 203.4+ KB\n"
     ]
    }
   ],
   "source": [
    "data.info()"
   ]
  },
  {
   "cell_type": "code",
   "execution_count": 9,
   "metadata": {},
   "outputs": [
    {
     "data": {
      "text/html": [
       "<div>\n",
       "<style scoped>\n",
       "    .dataframe tbody tr th:only-of-type {\n",
       "        vertical-align: middle;\n",
       "    }\n",
       "\n",
       "    .dataframe tbody tr th {\n",
       "        vertical-align: top;\n",
       "    }\n",
       "\n",
       "    .dataframe thead th {\n",
       "        text-align: right;\n",
       "    }\n",
       "</style>\n",
       "<table border=\"1\" class=\"dataframe\">\n",
       "  <thead>\n",
       "    <tr style=\"text-align: right;\">\n",
       "      <th></th>\n",
       "      <th>Unnamed: 0</th>\n",
       "    </tr>\n",
       "  </thead>\n",
       "  <tbody>\n",
       "    <tr>\n",
       "      <th>count</th>\n",
       "      <td>8675.000000</td>\n",
       "    </tr>\n",
       "    <tr>\n",
       "      <th>mean</th>\n",
       "      <td>4337.000000</td>\n",
       "    </tr>\n",
       "    <tr>\n",
       "      <th>std</th>\n",
       "      <td>2504.401126</td>\n",
       "    </tr>\n",
       "    <tr>\n",
       "      <th>min</th>\n",
       "      <td>0.000000</td>\n",
       "    </tr>\n",
       "    <tr>\n",
       "      <th>25%</th>\n",
       "      <td>2168.500000</td>\n",
       "    </tr>\n",
       "    <tr>\n",
       "      <th>50%</th>\n",
       "      <td>4337.000000</td>\n",
       "    </tr>\n",
       "    <tr>\n",
       "      <th>75%</th>\n",
       "      <td>6505.500000</td>\n",
       "    </tr>\n",
       "    <tr>\n",
       "      <th>max</th>\n",
       "      <td>8674.000000</td>\n",
       "    </tr>\n",
       "  </tbody>\n",
       "</table>\n",
       "</div>"
      ],
      "text/plain": [
       "        Unnamed: 0\n",
       "count  8675.000000\n",
       "mean   4337.000000\n",
       "std    2504.401126\n",
       "min       0.000000\n",
       "25%    2168.500000\n",
       "50%    4337.000000\n",
       "75%    6505.500000\n",
       "max    8674.000000"
      ]
     },
     "execution_count": 9,
     "metadata": {},
     "output_type": "execute_result"
    }
   ],
   "source": [
    "data.describe()"
   ]
  },
  {
   "cell_type": "code",
   "execution_count": 10,
   "metadata": {},
   "outputs": [
    {
     "data": {
      "text/plain": [
       "Index(['Unnamed: 0', 'type', 'posts'], dtype='object')"
      ]
     },
     "execution_count": 10,
     "metadata": {},
     "output_type": "execute_result"
    }
   ],
   "source": [
    "data.columns"
   ]
  },
  {
   "cell_type": "code",
   "execution_count": 11,
   "metadata": {},
   "outputs": [
    {
     "name": "stdout",
     "output_type": "stream",
     "text": [
      "Unique Labels: ['INFJ' 'ENTP' 'INTP' 'INTJ' 'ENTJ' 'ENFJ' 'INFP' 'ENFP' 'ISFP' 'ISTP'\n",
      " 'ISFJ' 'ISTJ' 'ESTP' 'ESFP' 'ESTJ' 'ESFJ']\n"
     ]
    }
   ],
   "source": [
    "#show the labels of the dataset\n",
    "labels = data['type'].unique()\n",
    "print(\"Unique Labels:\", labels)"
   ]
  },
  {
   "cell_type": "code",
   "execution_count": 12,
   "metadata": {},
   "outputs": [
    {
     "name": "stdout",
     "output_type": "stream",
     "text": [
      "No duplicate rows found.\n"
     ]
    }
   ],
   "source": [
    "#find the duplicate rows\n",
    "duplicate_rows = data[data.duplicated()]\n",
    "\n",
    "if not duplicate_rows.empty:\n",
    "    print(\"Duplicate Rows:\")\n",
    "    print(duplicate_rows)\n",
    "else:\n",
    "    print(\"No duplicate rows found.\")"
   ]
  },
  {
   "cell_type": "code",
   "execution_count": 13,
   "metadata": {},
   "outputs": [
    {
     "name": "stderr",
     "output_type": "stream",
     "text": [
      "c:\\Users\\RPT\\anaconda3\\envs\\ml_env\\lib\\site-packages\\seaborn\\_oldcore.py:1498: FutureWarning: is_categorical_dtype is deprecated and will be removed in a future version. Use isinstance(dtype, CategoricalDtype) instead\n",
      "  if pd.api.types.is_categorical_dtype(vector):\n",
      "c:\\Users\\RPT\\anaconda3\\envs\\ml_env\\lib\\site-packages\\seaborn\\_oldcore.py:1498: FutureWarning: is_categorical_dtype is deprecated and will be removed in a future version. Use isinstance(dtype, CategoricalDtype) instead\n",
      "  if pd.api.types.is_categorical_dtype(vector):\n",
      "c:\\Users\\RPT\\anaconda3\\envs\\ml_env\\lib\\site-packages\\seaborn\\_oldcore.py:1498: FutureWarning: is_categorical_dtype is deprecated and will be removed in a future version. Use isinstance(dtype, CategoricalDtype) instead\n",
      "  if pd.api.types.is_categorical_dtype(vector):\n"
     ]
    },
    {
     "data": {
      "image/png": "[encoded data removed]",
      "text/plain": [
       "<Figure size 640x480 with 1 Axes>"
      ]
     },
     "metadata": {},
     "output_type": "display_data"
    }
   ],
   "source": [
    "#plot the count of each label\n",
    "sns.countplot(x='type', data=data, palette='viridis')\n",
    "plt.title('Count of Observations in Each Label')\n",
    "plt.show()\n"
   ]
  },
  {
   "cell_type": "markdown",
   "metadata": {},
   "source": [
    "# Data Preprocessing"
   ]
  },
  {
   "cell_type": "markdown",
   "metadata": {},
   "source": [
    "### Missing values"
   ]
  },
  {
   "cell_type": "code",
   "execution_count": 14,
   "metadata": {},
   "outputs": [
    {
     "data": {
      "text/plain": [
       "<Axes: >"
      ]
     },
     "execution_count": 14,
     "metadata": {},
     "output_type": "execute_result"
    },
    {
     "data": {
      "image/png": "[encoded data removed]",
      "text/plain": [
       "<Figure size 640x480 with 2 Axes>"
      ]
     },
     "metadata": {},
     "output_type": "display_data"
    }
   ],
   "source": [
    "sns.heatmap(data=data.isnull())"
   ]
  },
  {
   "cell_type": "markdown",
   "metadata": {},
   "source": [
    "\n",
    "### Text Pre-processing\n",
    "\n"
   ]
  },
  {
   "cell_type": "code",
   "execution_count": 15,
   "metadata": {},
   "outputs": [],
   "source": [
    "import re\n",
    "import string"
   ]
  },
  {
   "cell_type": "markdown",
   "metadata": {},
   "source": [
    "##### convert uppercase to lowercase"
   ]
  },
  {
   "cell_type": "code",
   "execution_count": 16,
   "metadata": {},
   "outputs": [
    {
     "data": {
      "text/html": [
       "<div>\n",
       "<style scoped>\n",
       "    .dataframe tbody tr th:only-of-type {\n",
       "        vertical-align: middle;\n",
       "    }\n",
       "\n",
       "    .dataframe tbody tr th {\n",
       "        vertical-align: top;\n",
       "    }\n",
       "\n",
       "    .dataframe thead th {\n",
       "        text-align: right;\n",
       "    }\n",
       "</style>\n",
       "<table border=\"1\" class=\"dataframe\">\n",
       "  <thead>\n",
       "    <tr style=\"text-align: right;\">\n",
       "      <th></th>\n",
       "      <th>Unnamed: 0</th>\n",
       "      <th>type</th>\n",
       "      <th>posts</th>\n",
       "    </tr>\n",
       "  </thead>\n",
       "  <tbody>\n",
       "    <tr>\n",
       "      <th>0</th>\n",
       "      <td>0</td>\n",
       "      <td>INFJ</td>\n",
       "      <td>http www tube com watch v qsxhcwekrw http medi...</td>\n",
       "    </tr>\n",
       "    <tr>\n",
       "      <th>1</th>\n",
       "      <td>1</td>\n",
       "      <td>ENTP</td>\n",
       "      <td>im find lack post alarm sex bore posit often e...</td>\n",
       "    </tr>\n",
       "    <tr>\n",
       "      <th>2</th>\n",
       "      <td>2</td>\n",
       "      <td>INTP</td>\n",
       "      <td>good one http www youtub com watch v fhigbolff...</td>\n",
       "    </tr>\n",
       "    <tr>\n",
       "      <th>3</th>\n",
       "      <td>3</td>\n",
       "      <td>INTJ</td>\n",
       "      <td>dear enjoy convers day esoter gab natur univer...</td>\n",
       "    </tr>\n",
       "    <tr>\n",
       "      <th>4</th>\n",
       "      <td>4</td>\n",
       "      <td>ENTJ</td>\n",
       "      <td>fire anoth silli misconcept approach logic go ...</td>\n",
       "    </tr>\n",
       "  </tbody>\n",
       "</table>\n",
       "</div>"
      ],
      "text/plain": [
       "   Unnamed: 0  type                                              posts\n",
       "0           0  INFJ  http www tube com watch v qsxhcwekrw http medi...\n",
       "1           1  ENTP  im find lack post alarm sex bore posit often e...\n",
       "2           2  INTP  good one http www youtub com watch v fhigbolff...\n",
       "3           3  INTJ  dear enjoy convers day esoter gab natur univer...\n",
       "4           4  ENTJ  fire anoth silli misconcept approach logic go ..."
      ]
     },
     "execution_count": 16,
     "metadata": {},
     "output_type": "execute_result"
    }
   ],
   "source": [
    "data['posts'] = data['posts'].str.lower()\n",
    "data.head()"
   ]
  },
  {
   "cell_type": "markdown",
   "metadata": {},
   "source": [
    "##### Remove links"
   ]
  },
  {
   "cell_type": "code",
   "execution_count": 17,
   "metadata": {},
   "outputs": [
    {
     "name": "stdout",
     "output_type": "stream",
     "text": [
      "   Unnamed: 0  type                                              posts\n",
      "0           0  INFJ  http www tube com watch v qsxhcwekrw http medi...\n",
      "1           1  ENTP  im find lack post alarm sex bore posit often e...\n",
      "2           2  INTP  good one http www youtub com watch v fhigbolff...\n",
      "3           3  INTJ  dear enjoy convers day esoter gab natur univer...\n",
      "4           4  ENTJ  fire anoth silli misconcept approach logic go ...\n"
     ]
    }
   ],
   "source": [
    "\n",
    "def remove_links(text):\n",
    "    return re.sub(r'http\\S+|www\\S+|https\\S+', '', text, flags=re.MULTILINE)\n",
    "\n",
    "data['posts'] = data['posts'].apply(remove_links)\n",
    "\n",
    "#print first five data\n",
    "print(data.head())"
   ]
  },
  {
   "cell_type": "markdown",
   "metadata": {},
   "source": [
    "##### Remove punctuations"
   ]
  },
  {
   "cell_type": "code",
   "execution_count": 18,
   "metadata": {},
   "outputs": [
    {
     "name": "stdout",
     "output_type": "stream",
     "text": [
      "   Unnamed: 0  type                                              posts\n",
      "0           0  INFJ  http www tube com watch v qsxhcwekrw http medi...\n",
      "1           1  ENTP  im find lack post alarm sex bore posit often e...\n",
      "2           2  INTP  good one http www youtub com watch v fhigbolff...\n",
      "3           3  INTJ  dear enjoy convers day esoter gab natur univer...\n",
      "4           4  ENTJ  fire anoth silli misconcept approach logic go ...\n"
     ]
    }
   ],
   "source": [
    "import string\n",
    "# remove pancuations marks\n",
    "def remove_punctuation_and_specific_chars(text):\n",
    "    text_without_punctuation = text.translate(str.maketrans('', '', string.punctuation))\n",
    "    text_without_specific_chars = text_without_punctuation.replace('^', '~')\n",
    "\n",
    "    return text_without_specific_chars\n",
    "\n",
    "data['posts'] = data['posts'].apply(remove_punctuation_and_specific_chars)\n",
    "\n",
    "#print first data\n",
    "print(data.head())\n"
   ]
  },
  {
   "cell_type": "markdown",
   "metadata": {},
   "source": [
    "##### Remove numbers"
   ]
  },
  {
   "cell_type": "code",
   "execution_count": 19,
   "metadata": {},
   "outputs": [
    {
     "name": "stdout",
     "output_type": "stream",
     "text": [
      "      Unnamed: 0  type                                              posts\n",
      "8670        8670  ISFP  http www youtub com watch v tedhbh ixfp alway ...\n",
      "8671        8671  ENFP  thread alreadi exist someplac els doe http per...\n",
      "8672        8672  INTP  mani question thing would take purpl pill pick...\n",
      "8673        8673  INFP  conflict right come want child honest matern i...\n",
      "8674        8674  INFP  long sinc personalitycaf although doesnt seem ...\n"
     ]
    }
   ],
   "source": [
    "def remove_numbers(text):\n",
    "    return ''.join(char for char in text if not char.isdigit())\n",
    "\n",
    "\n",
    "data['posts'] = data['posts'].apply(remove_numbers)\n",
    "\n",
    "\n",
    "print(data.tail())\n"
   ]
  },
  {
   "cell_type": "markdown",
   "metadata": {},
   "source": [
    "##### Remove stopwords"
   ]
  },
  {
   "cell_type": "code",
   "execution_count": 20,
   "metadata": {},
   "outputs": [
    {
     "name": "stderr",
     "output_type": "stream",
     "text": [
      "[nltk_data] Downloading package stopwords to\n",
      "[nltk_data]     C:\\Users\\RPT\\AppData\\Roaming\\nltk_data...\n",
      "[nltk_data]   Package stopwords is already up-to-date!\n"
     ]
    },
    {
     "data": {
      "text/plain": [
       "True"
      ]
     },
     "execution_count": 20,
     "metadata": {},
     "output_type": "execute_result"
    }
   ],
   "source": [
    "import nltk\n",
    "from nltk.corpus import stopwords\n",
    "nltk.download('stopwords')"
   ]
  },
  {
   "cell_type": "code",
   "execution_count": 21,
   "metadata": {},
   "outputs": [
    {
     "name": "stdout",
     "output_type": "stream",
     "text": [
      "      Unnamed: 0  type                                              posts\n",
      "6301        6301  INFP  mean honest experienc way mani time peopl exit...\n",
      "1078        1078  INFP  think lost comfort level post pc bit guess tim...\n",
      "4185        4185  INFP  would even love lead life far away societi woo...\n",
      "2602        2602  INTJ  would describ like think wing pure behavior se...\n",
      "6248        6248  INFJ  lol youknowyoucar wp content upload antoin dod...\n",
      "4904        4904  ENTP  wasnt passiv aggress genuin think cute genuin ...\n",
      "7608        7608  INTP  actual type introvert extrovert intuit sens th...\n",
      "6679        6679  ENTP  mad man crush guy mild success mayor newark ki...\n",
      "7629        7629  INFP  also two trityp lean slight toward though feel...\n",
      "1628        1628  INFP  true alway feel reliev spend hour artist proje...\n"
     ]
    }
   ],
   "source": [
    "#remove meaningless words and the single lettes\n",
    "stop_words = set(stopwords.words('english'))\n",
    "\n",
    "# Custom list of additional meaningless words\n",
    "custom_meaningless_words = ['ye', 'im', 'http', 'www','etc','tube','com','ive','el','sp']  \n",
    "\n",
    "def remove_stopwords_and_meaningless_words(text):\n",
    "    words = nltk.word_tokenize(text)\n",
    "    filtered_words = [word for word in words if len(word) > 1 and word.lower() not in stop_words and word.lower() not in custom_meaningless_words]\n",
    "    return ' '.join(filtered_words)\n",
    "\n",
    "data['posts'] = data['posts'].apply(remove_stopwords_and_meaningless_words)\n",
    "\n",
    "print(data.sample(10))"
   ]
  },
  {
   "cell_type": "markdown",
   "metadata": {},
   "source": [
    "##### Stemming"
   ]
  },
  {
   "cell_type": "code",
   "execution_count": 22,
   "metadata": {},
   "outputs": [
    {
     "name": "stderr",
     "output_type": "stream",
     "text": [
      "[nltk_data] Downloading package punkt to\n",
      "[nltk_data]     C:\\Users\\RPT\\AppData\\Roaming\\nltk_data...\n",
      "[nltk_data]   Package punkt is already up-to-date!\n"
     ]
    },
    {
     "name": "stdout",
     "output_type": "stream",
     "text": [
      "   Unnamed: 0  type                                              posts\n",
      "0           0  INFJ  watch qsxhcwekrw medium tumblr tumblrlfouypmaq...\n",
      "1           1  ENTP  find lack post alarm sex bore posit often exam...\n",
      "2           2  INTP  good one youtub watch fhigbolffgw cour say kno...\n",
      "3           3  INTJ  dear enjoy conver day esot gab natur univ idea...\n",
      "4           4  ENTJ  fire anoth silli misconcept approach logic go ...\n"
     ]
    }
   ],
   "source": [
    "#import libaries\n",
    "from nltk.stem import PorterStemmer\n",
    "from nltk.tokenize import word_tokenize\n",
    "\n",
    "nltk.download('punkt')\n",
    "\n",
    "# Create a PorterStemmer\n",
    "porter_stemmer = PorterStemmer()\n",
    "\n",
    "# Function to apply stemming\n",
    "def stem_text(text):\n",
    "    words = word_tokenize(text)\n",
    "    stemmed_words = [porter_stemmer.stem(word) for word in words]\n",
    "    return ' '.join(stemmed_words)\n",
    "\n",
    "data['posts'] = data['posts'].apply(stem_text)\n",
    "\n",
    "# Print the updated DataFrame\n",
    "print(data.head())\n"
   ]
  },
  {
   "cell_type": "markdown",
   "metadata": {},
   "source": [
    "#### Building vocabulary"
   ]
  },
  {
   "cell_type": "code",
   "execution_count": 23,
   "metadata": {},
   "outputs": [],
   "source": [
    "#create a vocabulary\n",
    "from collections import Counter\n",
    "vocab= Counter()"
   ]
  },
  {
   "cell_type": "code",
   "execution_count": 24,
   "metadata": {},
   "outputs": [],
   "source": [
    "for sentence in data ['posts']:\n",
    "    vocab.update(sentence.split())"
   ]
  },
  {
   "cell_type": "code",
   "execution_count": 25,
   "metadata": {},
   "outputs": [
    {
     "data": {
      "text/plain": [
       "Counter({'like': 75863,\n",
       "         'think': 58163,\n",
       "         'dont': 52368,\n",
       "         'peopl': 47881,\n",
       "         'one': 39962,\n",
       "         'know': 39337,\n",
       "         'get': 38647,\n",
       "         'feel': 37037,\n",
       "         'realli': 34950,\n",
       "         'would': 34514,\n",
       "         'thing': 34348,\n",
       "         'time': 33608,\n",
       "         'go': 29941,\n",
       "         'make': 27432,\n",
       "         'say': 27086,\n",
       "         'type': 26735,\n",
       "         'person': 26271,\n",
       "         'want': 26145,\n",
       "         'love': 24833,\n",
       "         'well': 23375,\n",
       "         'much': 22877,\n",
       "         'friend': 22735,\n",
       "         'watch': 22617,\n",
       "         'way': 21628,\n",
       "         'see': 21498,\n",
       "         'good': 20942,\n",
       "         'tri': 19628,\n",
       "         'someth': 19430,\n",
       "         'also': 18156,\n",
       "         'lot': 18054,\n",
       "         'use': 18030,\n",
       "         'youtub': 17802,\n",
       "         'even': 17107,\n",
       "         'work': 16944,\n",
       "         'alway': 16674,\n",
       "         'life': 16424,\n",
       "         'look': 16260,\n",
       "         'someon': 16141,\n",
       "         'find': 15785,\n",
       "         'seem': 15716,\n",
       "         'thank': 15198,\n",
       "         'never': 15146,\n",
       "         'could': 15056,\n",
       "         'read': 14963,\n",
       "         'need': 14877,\n",
       "         'though': 14564,\n",
       "         'actual': 14310,\n",
       "         'year': 14294,\n",
       "         'post': 14275,\n",
       "         'thought': 14137,\n",
       "         'take': 14113,\n",
       "         'mean': 14043,\n",
       "         'interest': 13799,\n",
       "         'talk': 13775,\n",
       "         'cant': 13520,\n",
       "         'come': 13399,\n",
       "         'right': 12902,\n",
       "         'sure': 12890,\n",
       "         'first': 12764,\n",
       "         'ye': 12411,\n",
       "         'pretti': 12257,\n",
       "         'differ': 11483,\n",
       "         'day': 11473,\n",
       "         'guy': 11151,\n",
       "         'still': 10934,\n",
       "         'got': 10897,\n",
       "         'id': 10767,\n",
       "         'help': 10637,\n",
       "         'thread': 10589,\n",
       "         'said': 10486,\n",
       "         'start': 10427,\n",
       "         'mani': 10306,\n",
       "         'understand': 10072,\n",
       "         'sometim': 10000,\n",
       "         'ill': 9836,\n",
       "         'probabl': 9774,\n",
       "         'mayb': 9529,\n",
       "         'kind': 9506,\n",
       "         'ask': 9449,\n",
       "         'around': 9425,\n",
       "         'question': 9405,\n",
       "         'best': 9355,\n",
       "         'tell': 9337,\n",
       "         'back': 9285,\n",
       "         'give': 9276,\n",
       "         'point': 9104,\n",
       "         'didnt': 9029,\n",
       "         'relationship': 9009,\n",
       "         'emot': 8939,\n",
       "         'anyth': 8899,\n",
       "         'doesnt': 8859,\n",
       "         'usual': 8777,\n",
       "         'mind': 8718,\n",
       "         'sound': 8712,\n",
       "         'lol': 8694,\n",
       "         'littl': 8555,\n",
       "         'long': 8531,\n",
       "         'yeah': 8468,\n",
       "         'better': 8333,\n",
       "         'two': 8276,\n",
       "         'idea': 8228,\n",
       "         'agr': 8179,\n",
       "         'definit': 8157,\n",
       "         'world': 8139,\n",
       "         'might': 7895,\n",
       "         'hard': 7883,\n",
       "         'guess': 7853,\n",
       "         'quit': 7826,\n",
       "         'ever': 7818,\n",
       "         'relat': 7774,\n",
       "         'everyon': 7641,\n",
       "         'oh': 7622,\n",
       "         'sinc': 7609,\n",
       "         'reason': 7587,\n",
       "         'let': 7529,\n",
       "         'bit': 7517,\n",
       "         'problem': 7498,\n",
       "         'believ': 7485,\n",
       "         'may': 7462,\n",
       "         'live': 7440,\n",
       "         'happi': 7432,\n",
       "         'great': 7425,\n",
       "         'care': 7397,\n",
       "         'test': 7296,\n",
       "         'school': 7261,\n",
       "         'function': 7209,\n",
       "         'bad': 7178,\n",
       "         'new': 7166,\n",
       "         'happen': 7130,\n",
       "         'play': 7037,\n",
       "         'made': 7029,\n",
       "         'everi': 6965,\n",
       "         'experi': 6926,\n",
       "         'part': 6866,\n",
       "         'hate': 6789,\n",
       "         'gener': 6784,\n",
       "         'put': 6772,\n",
       "         'everyth': 6761,\n",
       "         'keep': 6675,\n",
       "         'last': 6653,\n",
       "         'often': 6523,\n",
       "         'sen': 6519,\n",
       "         'word': 6469,\n",
       "         'learn': 6435,\n",
       "         'high': 6320,\n",
       "         'call': 6315,\n",
       "         'chang': 6261,\n",
       "         'end': 6248,\n",
       "         'forum': 6231,\n",
       "         'anyon': 6212,\n",
       "         'enjoy': 6127,\n",
       "         'tend': 6119,\n",
       "         'answer': 6114,\n",
       "         'social': 6071,\n",
       "         'anoth': 5958,\n",
       "         'jpg': 5957,\n",
       "         'girl': 5941,\n",
       "         'laugh': 5912,\n",
       "         'show': 5821,\n",
       "         'isnt': 5774,\n",
       "         'enough': 5771,\n",
       "         'nice': 5596,\n",
       "         'mbti': 5565,\n",
       "         'true': 5548,\n",
       "         'wonder': 5534,\n",
       "         'exact': 5528,\n",
       "         'write': 5524,\n",
       "         'music': 5512,\n",
       "         'least': 5489,\n",
       "         'consid': 5466,\n",
       "         'el': 5450,\n",
       "         'hope': 5441,\n",
       "         'book': 5418,\n",
       "         'possibl': 5389,\n",
       "         'self': 5375,\n",
       "         'noth': 5255,\n",
       "         'either': 5236,\n",
       "         'sorri': 5172,\n",
       "         'stuff': 5171,\n",
       "         'without': 5145,\n",
       "         'welcom': 5125,\n",
       "         'place': 5111,\n",
       "         'found': 5111,\n",
       "         'haha': 5086,\n",
       "         'situat': 5072,\n",
       "         'wrong': 5070,\n",
       "         'complet': 5067,\n",
       "         'close': 5067,\n",
       "         'certain': 5058,\n",
       "         'fe': 5040,\n",
       "         'theyr': 4980,\n",
       "         'especi': 4955,\n",
       "         'fun': 4954,\n",
       "         'fi': 4948,\n",
       "         'seriou': 4903,\n",
       "         'fact': 4840,\n",
       "         'rememb': 4839,\n",
       "         'game': 4830,\n",
       "         'honest': 4795,\n",
       "         'howev': 4756,\n",
       "         'far': 4709,\n",
       "         'real': 4671,\n",
       "         'rather': 4645,\n",
       "         'introvert': 4628,\n",
       "         'woman': 4624,\n",
       "         'date': 4609,\n",
       "         'head': 4606,\n",
       "         'becom': 4598,\n",
       "         'man': 4528,\n",
       "         'old': 4479,\n",
       "         'almost': 4467,\n",
       "         'done': 4464,\n",
       "         'listen': 4464,\n",
       "         'away': 4438,\n",
       "         'job': 4429,\n",
       "         'wouldnt': 4402,\n",
       "         'stop': 4345,\n",
       "         'ago': 4217,\n",
       "         'prefer': 4216,\n",
       "         'depend': 4201,\n",
       "         'ne': 4190,\n",
       "         'big': 4178,\n",
       "         'ni': 4177,\n",
       "         'yet': 4147,\n",
       "         'natur': 4144,\n",
       "         'havent': 4135,\n",
       "         'alreadi': 4124,\n",
       "         'famili': 4096,\n",
       "         'movi': 4090,\n",
       "         'realiz': 4088,\n",
       "         'le': 4087,\n",
       "         'sort': 4041,\n",
       "         'whi': 4040,\n",
       "         'open': 4038,\n",
       "         'song': 4037,\n",
       "         'kid': 4006,\n",
       "         'share': 4003,\n",
       "         'wish': 3992,\n",
       "         'abl': 3925,\n",
       "         'month': 3925,\n",
       "         'human': 3912,\n",
       "         'eye': 3901,\n",
       "         'conver': 3900,\n",
       "         'notic': 3855,\n",
       "         'move': 3851,\n",
       "         'whole': 3845,\n",
       "         'total': 3832,\n",
       "         'dream': 3818,\n",
       "         'alon': 3817,\n",
       "         'told': 3811,\n",
       "         'base': 3762,\n",
       "         'exampl': 3746,\n",
       "         'name': 3743,\n",
       "         'she': 3731,\n",
       "         'cool': 3728,\n",
       "         'strong': 3717,\n",
       "         'speak': 3688,\n",
       "         'week': 3686,\n",
       "         'past': 3685,\n",
       "         'figur': 3649,\n",
       "         'ti': 3639,\n",
       "         'turn': 3625,\n",
       "         'today': 3615,\n",
       "         'although': 3615,\n",
       "         'anyway': 3573,\n",
       "         'opinion': 3564,\n",
       "         'seen': 3560,\n",
       "         'act': 3556,\n",
       "         'recent': 3553,\n",
       "         'hear': 3550,\n",
       "         'issu': 3541,\n",
       "         'god': 3535,\n",
       "         'similar': 3523,\n",
       "         'wasnt': 3478,\n",
       "         'explain': 3472,\n",
       "         'plea': 3460,\n",
       "         'crazi': 3458,\n",
       "         'matter': 3458,\n",
       "         'video': 3454,\n",
       "         'cour': 3442,\n",
       "         'child': 3419,\n",
       "         'respon': 3405,\n",
       "         'side': 3384,\n",
       "         'felt': 3382,\n",
       "         'funni': 3377,\n",
       "         'hey': 3374,\n",
       "         'stori': 3374,\n",
       "         'favorit': 3367,\n",
       "         'sad': 3355,\n",
       "         'along': 3353,\n",
       "         'face': 3342,\n",
       "         'meet': 3338,\n",
       "         'night': 3297,\n",
       "         'fit': 3297,\n",
       "         'import': 3296,\n",
       "         'weird': 3283,\n",
       "         'charact': 3277,\n",
       "         'logic': 3272,\n",
       "         'moment': 3253,\n",
       "         'hand': 3253,\n",
       "         'awesom': 3253,\n",
       "         'attract': 3243,\n",
       "         'fuck': 3237,\n",
       "         'deal': 3207,\n",
       "         'physic': 3207,\n",
       "         'bore': 3203,\n",
       "         'group': 3203,\n",
       "         'took': 3194,\n",
       "         'wont': 3190,\n",
       "         'must': 3186,\n",
       "         'plan': 3185,\n",
       "         'femal': 3183,\n",
       "         'late': 3164,\n",
       "         'suppo': 3164,\n",
       "         'arent': 3157,\n",
       "         'second': 3138,\n",
       "         'describ': 3136,\n",
       "         'cau': 3132,\n",
       "         'se': 3112,\n",
       "         'valu': 3109,\n",
       "         'perfect': 3108,\n",
       "         'basic': 3108,\n",
       "         'current': 3089,\n",
       "         'case': 3086,\n",
       "         'went': 3080,\n",
       "         'met': 3068,\n",
       "         'list': 3041,\n",
       "         'ok': 3039,\n",
       "         'hour': 3029,\n",
       "         'hi': 3019,\n",
       "         'pictur': 3018,\n",
       "         'studi': 3013,\n",
       "         'extrem': 3008,\n",
       "         'mom': 2989,\n",
       "         'hurt': 2987,\n",
       "         'absolut': 2982,\n",
       "         'home': 2978,\n",
       "         'follow': 2966,\n",
       "         'advic': 2963,\n",
       "         'decid': 2962,\n",
       "         'okay': 2959,\n",
       "         'class': 2928,\n",
       "         'sleep': 2928,\n",
       "         'imagin': 2921,\n",
       "         'run': 2908,\n",
       "         'depress': 2903,\n",
       "         'express': 2899,\n",
       "         'age': 2891,\n",
       "         'clear': 2890,\n",
       "         'confu': 2882,\n",
       "         'whatev': 2878,\n",
       "         'coupl': 2869,\n",
       "         'male': 2868,\n",
       "         'wait': 2858,\n",
       "         'te': 2855,\n",
       "         'intuit': 2849,\n",
       "         'walk': 2846,\n",
       "         'expect': 2829,\n",
       "         'appreci': 2823,\n",
       "         'came': 2812,\n",
       "         'extrovert': 2811,\n",
       "         'develop': 2801,\n",
       "         'mine': 2799,\n",
       "         'wow': 2796,\n",
       "         'mention': 2775,\n",
       "         'stay': 2770,\n",
       "         'beauti': 2769,\n",
       "         'annoy': 2769,\n",
       "         'tongu': 2767,\n",
       "         'obviou': 2758,\n",
       "         'term': 2753,\n",
       "         'view': 2748,\n",
       "         'anim': 2742,\n",
       "         'youv': 2733,\n",
       "         'eat': 2730,\n",
       "         'parent': 2728,\n",
       "         'connect': 2725,\n",
       "         'togeth': 2721,\n",
       "         'particular': 2720,\n",
       "         'topic': 2707,\n",
       "         'state': 2699,\n",
       "         'heart': 2691,\n",
       "         'cri': 2689,\n",
       "         'result': 2686,\n",
       "         'whether': 2682,\n",
       "         'shit': 2676,\n",
       "         'na': 2669,\n",
       "         'focu': 2663,\n",
       "         'theori': 2658,\n",
       "         'common': 2656,\n",
       "         'easi': 2647,\n",
       "         'descript': 2643,\n",
       "         'hello': 2639,\n",
       "         'xd': 2637,\n",
       "         'normal': 2635,\n",
       "         'next': 2624,\n",
       "         'si': 2617,\n",
       "         'unless': 2607,\n",
       "         'colleg': 2600,\n",
       "         'toward': 2587,\n",
       "         'spend': 2575,\n",
       "         'mother': 2568,\n",
       "         'exist': 2546,\n",
       "         'small': 2546,\n",
       "         'sex': 2540,\n",
       "         'dad': 2523,\n",
       "         'perhap': 2519,\n",
       "         'inform': 2518,\n",
       "         'hou': 2476,\n",
       "         'free': 2475,\n",
       "         'posit': 2473,\n",
       "         'level': 2473,\n",
       "         'except': 2467,\n",
       "         'imag': 2463,\n",
       "         'repli': 2459,\n",
       "         'medium': 2458,\n",
       "         'fall': 2454,\n",
       "         'commun': 2453,\n",
       "         'wa': 2453,\n",
       "         'worri': 2446,\n",
       "         'heard': 2443,\n",
       "         'accept': 2438,\n",
       "         'subject': 2434,\n",
       "         'order': 2432,\n",
       "         'stupid': 2424,\n",
       "         'leav': 2419,\n",
       "         'stress': 2409,\n",
       "         'creat': 2407,\n",
       "         'major': 2406,\n",
       "         'enneagram': 2400,\n",
       "         'comfort': 2398,\n",
       "         'set': 2391,\n",
       "         'instead': 2389,\n",
       "         'art': 2378,\n",
       "         'left': 2377,\n",
       "         'hell': 2371,\n",
       "         'saw': 2370,\n",
       "         'specif': 2361,\n",
       "         'direct': 2361,\n",
       "         'pick': 2358,\n",
       "         'intellig': 2358,\n",
       "         'main': 2342,\n",
       "         'fair': 2335,\n",
       "         'random': 2326,\n",
       "         'miss': 2325,\n",
       "         'difficult': 2323,\n",
       "         'hug': 2306,\n",
       "         'trust': 2302,\n",
       "         'control': 2289,\n",
       "         'lack': 2272,\n",
       "         'quot': 2269,\n",
       "         'money': 2269,\n",
       "         'joke': 2261,\n",
       "         'break': 2260,\n",
       "         'fear': 2259,\n",
       "         'stand': 2251,\n",
       "         'kinda': 2248,\n",
       "         'amaz': 2243,\n",
       "         'curiou': 2232,\n",
       "         'short': 2226,\n",
       "         'sister': 2226,\n",
       "         'couldnt': 2218,\n",
       "         'rare': 2213,\n",
       "         'brother': 2212,\n",
       "         'brain': 2209,\n",
       "         'deep': 2207,\n",
       "         'domin': 2202,\n",
       "         'simpli': 2201,\n",
       "         'dear': 2195,\n",
       "         'drive': 2190,\n",
       "         'sit': 2179,\n",
       "         'easili': 2174,\n",
       "         'entir': 2172,\n",
       "         'befor': 2162,\n",
       "         'lie': 2160,\n",
       "         'comment': 2155,\n",
       "         'three': 2154,\n",
       "         'men': 2150,\n",
       "         'suggest': 2142,\n",
       "         'assum': 2140,\n",
       "         'avoid': 2130,\n",
       "         'power': 2128,\n",
       "         'room': 2123,\n",
       "         'attent': 2123,\n",
       "         'gif': 2111,\n",
       "         'process': 2093,\n",
       "         'knew': 2090,\n",
       "         'languag': 2089,\n",
       "         'mental': 2086,\n",
       "         'die': 2086,\n",
       "         'line': 2084,\n",
       "         'bring': 2070,\n",
       "         'check': 2056,\n",
       "         'full': 2046,\n",
       "         'sever': 2041,\n",
       "         'respect': 2041,\n",
       "         'hold': 2041,\n",
       "         'cat': 2033,\n",
       "         'half': 2032,\n",
       "         'truth': 2026,\n",
       "         'constant': 2020,\n",
       "         'final': 2013,\n",
       "         'univ': 1995,\n",
       "         'dark': 1995,\n",
       "         'cognit': 1992,\n",
       "         'fine': 1990,\n",
       "         'hmm': 1990,\n",
       "         'smile': 1988,\n",
       "         'outsid': 1983,\n",
       "         'ignor': 1983,\n",
       "         'surpri': 1981,\n",
       "         'sent': 1977,\n",
       "         'internet': 1975,\n",
       "         'bodi': 1970,\n",
       "         'form': 1968,\n",
       "         'lost': 1964,\n",
       "         'glad': 1954,\n",
       "         'meant': 1951,\n",
       "         'quick': 1950,\n",
       "         'wear': 1950,\n",
       "         'argument': 1946,\n",
       "         'romant': 1946,\n",
       "         'system': 1945,\n",
       "         'add': 1942,\n",
       "         'parti': 1935,\n",
       "         'scienc': 1930,\n",
       "         'activ': 1928,\n",
       "         'action': 1924,\n",
       "         'proud': 1922,\n",
       "         'kill': 1922,\n",
       "         'doubt': 1914,\n",
       "         'confid': 1911,\n",
       "         'bother': 1909,\n",
       "         'busi': 1908,\n",
       "         'super': 1904,\n",
       "         'becau': 1903,\n",
       "         'pain': 1902,\n",
       "         'youll': 1898,\n",
       "         'known': 1897,\n",
       "         'stereotyp': 1897,\n",
       "         'frustrat': 1893,\n",
       "         'awar': 1892,\n",
       "         'food': 1884,\n",
       "         'onlin': 1883,\n",
       "         'number': 1883,\n",
       "         'interact': 1875,\n",
       "         'due': 1868,\n",
       "         'given': 1867,\n",
       "         'drink': 1861,\n",
       "         'origin': 1861,\n",
       "         'practic': 1855,\n",
       "         'discuss': 1849,\n",
       "         'quiet': 1843,\n",
       "         'remind': 1836,\n",
       "         'choo': 1828,\n",
       "         'veri': 1823,\n",
       "         'correct': 1814,\n",
       "         'death': 1810,\n",
       "         'deci': 1801,\n",
       "         'score': 1800,\n",
       "         'rule': 1794,\n",
       "         'trait': 1792,\n",
       "         'ha': 1788,\n",
       "         'includ': 1784,\n",
       "         'black': 1782,\n",
       "         'grow': 1780,\n",
       "         'futur': 1778,\n",
       "         'forc': 1777,\n",
       "         'angri': 1767,\n",
       "         'taken': 1763,\n",
       "         'negat': 1763,\n",
       "         'link': 1755,\n",
       "         'individu': 1754,\n",
       "         'singl': 1751,\n",
       "         'energi': 1749,\n",
       "         'light': 1749,\n",
       "         'later': 1747,\n",
       "         'affect': 1740,\n",
       "         'touch': 1738,\n",
       "         'suck': 1733,\n",
       "         'top': 1727,\n",
       "         'hang': 1718,\n",
       "         'lead': 1707,\n",
       "         'insid': 1706,\n",
       "         'appear': 1704,\n",
       "         'typic': 1702,\n",
       "         'observ': 1699,\n",
       "         'judg': 1692,\n",
       "         'minut': 1691,\n",
       "         'younger': 1690,\n",
       "         'hit': 1687,\n",
       "         'math': 1685,\n",
       "         'realiti': 1684,\n",
       "         'begin': 1680,\n",
       "         'dog': 1678,\n",
       "         'comput': 1678,\n",
       "         'text': 1677,\n",
       "         'lose': 1666,\n",
       "         'near': 1666,\n",
       "         'edit': 1665,\n",
       "         'fight': 1664,\n",
       "         'note': 1663,\n",
       "         'young': 1662,\n",
       "         'ideal': 1654,\n",
       "         'simpl': 1651,\n",
       "         'detail': 1647,\n",
       "         'creativ': 1646,\n",
       "         'forget': 1640,\n",
       "         'societi': 1639,\n",
       "         'hair': 1638,\n",
       "         'debat': 1637,\n",
       "         'older': 1637,\n",
       "         'cold': 1637,\n",
       "         'sx': 1635,\n",
       "         'finish': 1634,\n",
       "         'site': 1631,\n",
       "         'dom': 1629,\n",
       "         'research': 1621,\n",
       "         'opposit': 1620,\n",
       "         'wink': 1619,\n",
       "         'boyfriend': 1616,\n",
       "         'marri': 1610,\n",
       "         'awkward': 1605,\n",
       "         'tapatalk': 1604,\n",
       "         'non': 1600,\n",
       "         'involv': 1599,\n",
       "         'perc': 1597,\n",
       "         'english': 1593,\n",
       "         'behavior': 1593,\n",
       "         'style': 1589,\n",
       "         'respond': 1589,\n",
       "         'choic': 1588,\n",
       "         'gon': 1583,\n",
       "         'pay': 1582,\n",
       "         'cute': 1579,\n",
       "         'damn': 1578,\n",
       "         'huge': 1577,\n",
       "         'manag': 1576,\n",
       "         'draw': 1574,\n",
       "         'sensit': 1571,\n",
       "         'teacher': 1570,\n",
       "         'polit': 1567,\n",
       "         'abil': 1563,\n",
       "         'space': 1562,\n",
       "         'truli': 1561,\n",
       "         'rest': 1560,\n",
       "         'allow': 1553,\n",
       "         'mood': 1550,\n",
       "         'nt': 1550,\n",
       "         'op': 1548,\n",
       "         'featur': 1548,\n",
       "         'tire': 1544,\n",
       "         'accur': 1542,\n",
       "         'effect': 1539,\n",
       "         'anxieti': 1537,\n",
       "         'troubl': 1537,\n",
       "         'worth': 1536,\n",
       "         'psycholog': 1536,\n",
       "         'countri': 1531,\n",
       "         'father': 1530,\n",
       "         'chanc': 1526,\n",
       "         'liter': 1524,\n",
       "         'friendship': 1519,\n",
       "         'afraid': 1518,\n",
       "         'color': 1516,\n",
       "         'strang': 1515,\n",
       "         'motiv': 1510,\n",
       "         'phone': 1508,\n",
       "         'perspect': 1507,\n",
       "         'special': 1505,\n",
       "         'across': 1501,\n",
       "         'nf': 1499,\n",
       "         'step': 1497,\n",
       "         'page': 1496,\n",
       "         'knowledg': 1492,\n",
       "         'low': 1490,\n",
       "         'support': 1486,\n",
       "         'user': 1474,\n",
       "         'partner': 1471,\n",
       "         'earli': 1470,\n",
       "         'belief': 1469,\n",
       "         'refer': 1467,\n",
       "         'appar': 1467,\n",
       "         'critic': 1463,\n",
       "         'anymor': 1462,\n",
       "         'present': 1459,\n",
       "         'messag': 1456,\n",
       "         'degr': 1455,\n",
       "         'project': 1446,\n",
       "         'car': 1444,\n",
       "         'dislik': 1444,\n",
       "         'content': 1443,\n",
       "         'approach': 1443,\n",
       "         'struggl': 1442,\n",
       "         'whenev': 1440,\n",
       "         'buy': 1439,\n",
       "         'amount': 1425,\n",
       "         'somewh': 1423,\n",
       "         'skill': 1419,\n",
       "         'excit': 1419,\n",
       "         'admit': 1418,\n",
       "         'object': 1414,\n",
       "         'ex': 1413,\n",
       "         'middl': 1412,\n",
       "         'contact': 1411,\n",
       "         'identifi': 1409,\n",
       "         'goal': 1409,\n",
       "         'perceiv': 1395,\n",
       "         'religion': 1391,\n",
       "         'defin': 1389,\n",
       "         'desir': 1388,\n",
       "         'appli': 1385,\n",
       "         'qualiti': 1385,\n",
       "         'organ': 1383,\n",
       "         'gave': 1374,\n",
       "         'doe': 1371,\n",
       "         'behind': 1371,\n",
       "         'fail': 1366,\n",
       "         'voic': 1366,\n",
       "         'sign': 1362,\n",
       "         'terribl': 1359,\n",
       "         'shi': 1355,\n",
       "         'purpo': 1354,\n",
       "         'album': 1353,\n",
       "         'moral': 1348,\n",
       "         'scare': 1347,\n",
       "         'within': 1343,\n",
       "         'regard': 1337,\n",
       "         'easier': 1336,\n",
       "         'initi': 1332,\n",
       "         'inten': 1332,\n",
       "         'soul': 1330,\n",
       "         'career': 1329,\n",
       "         'somehow': 1327,\n",
       "         'join': 1322,\n",
       "         'morn': 1320,\n",
       "         'white': 1317,\n",
       "         'soon': 1314,\n",
       "         'insight': 1309,\n",
       "         'smart': 1305,\n",
       "         'somewhat': 1303,\n",
       "         'avatar': 1298,\n",
       "         'necessarili': 1296,\n",
       "         'sweet': 1296,\n",
       "         'artist': 1295,\n",
       "         'blue': 1293,\n",
       "         'memori': 1283,\n",
       "         'wrote': 1278,\n",
       "         'otherwi': 1277,\n",
       "         'humor': 1275,\n",
       "         'save': 1272,\n",
       "         'healthi': 1270,\n",
       "         'compar': 1269,\n",
       "         'odd': 1269,\n",
       "         'unfortun': 1268,\n",
       "         'public': 1267,\n",
       "         'argu': 1267,\n",
       "         'ah': 1267,\n",
       "         'inferior': 1265,\n",
       "         'disagr': 1262,\n",
       "         'slight': 1261,\n",
       "         'bed': 1258,\n",
       "         'requir': 1256,\n",
       "         'impress': 1255,\n",
       "         'danc': 1255,\n",
       "         'passion': 1254,\n",
       "         'worst': 1253,\n",
       "         'count': 1252,\n",
       "         'gone': 1252,\n",
       "         'build': 1251,\n",
       "         'cut': 1246,\n",
       "         'continu': 1244,\n",
       "         'concept': 1243,\n",
       "         'area': 1242,\n",
       "         'fellow': 1242,\n",
       "         'gotten': 1241,\n",
       "         'incr': 1238,\n",
       "         'larg': 1237,\n",
       "         'boy': 1235,\n",
       "         'straight': 1231,\n",
       "         'lazi': 1220,\n",
       "         'obsess': 1219,\n",
       "         'youtu': 1219,\n",
       "         'manipul': 1219,\n",
       "         'net': 1218,\n",
       "         'sexual': 1206,\n",
       "         'hot': 1205,\n",
       "         'girlfriend': 1204,\n",
       "         'fan': 1194,\n",
       "         'tumblr': 1188,\n",
       "         'fix': 1188,\n",
       "         'evil': 1187,\n",
       "         'th': 1185,\n",
       "         'crush': 1184,\n",
       "         'intent': 1184,\n",
       "         'push': 1181,\n",
       "         'four': 1181,\n",
       "         'concern': 1175,\n",
       "         'tv': 1173,\n",
       "         'statement': 1168,\n",
       "         'potenti': 1167,\n",
       "         'piec': 1167,\n",
       "         'ration': 1166,\n",
       "         'onc': 1166,\n",
       "         'shock': 1161,\n",
       "         'lone': 1160,\n",
       "         'dead': 1159,\n",
       "         'stick': 1157,\n",
       "         'cultur': 1155,\n",
       "         'seri': 1154,\n",
       "         'onli': 1152,\n",
       "         'effort': 1150,\n",
       "         'weak': 1150,\n",
       "         'consciou': 1144,\n",
       "         'grade': 1144,\n",
       "         'histori': 1142,\n",
       "         'titl': 1141,\n",
       "         'conflict': 1141,\n",
       "         'option': 1138,\n",
       "         'experienc': 1137,\n",
       "         'upload': 1136,\n",
       "         'water': 1136,\n",
       "         'travel': 1128,\n",
       "         'environ': 1127,\n",
       "         'attempt': 1126,\n",
       "         'seek': 1125,\n",
       "         'wast': 1125,\n",
       "         'spent': 1123,\n",
       "         'handl': 1123,\n",
       "         'limit': 1120,\n",
       "         'fast': 1117,\n",
       "         'articl': 1115,\n",
       "         'rock': 1114,\n",
       "         'treat': 1114,\n",
       "         'search': 1113,\n",
       "         'babi': 1112,\n",
       "         'student': 1111,\n",
       "         'piss': 1107,\n",
       "         'born': 1105,\n",
       "         'gift': 1101,\n",
       "         'aspect': 1100,\n",
       "         'match': 1099,\n",
       "         'gender': 1099,\n",
       "         'facebook': 1098,\n",
       "         'ani': 1098,\n",
       "         'unhealthi': 1098,\n",
       "         'loud': 1097,\n",
       "         'wor': 1094,\n",
       "         'written': 1093,\n",
       "         'member': 1092,\n",
       "         'throw': 1090,\n",
       "         'win': 1087,\n",
       "         'unsur': 1085,\n",
       "         'red': 1084,\n",
       "         'offer': 1082,\n",
       "         'photo': 1080,\n",
       "         'clean': 1079,\n",
       "         'film': 1079,\n",
       "         'upon': 1076,\n",
       "         'mistak': 1075,\n",
       "         'five': 1070,\n",
       "         'calm': 1070,\n",
       "         'coff': 1068,\n",
       "         'compani': 1067,\n",
       "         'wan': 1064,\n",
       "         'mix': 1062,\n",
       "         'christian': 1062,\n",
       "         'teach': 1062,\n",
       "         'tendenc': 1061,\n",
       "         'dude': 1061,\n",
       "         'apolog': 1060,\n",
       "         'shouldnt': 1060,\n",
       "         'front': 1059,\n",
       "         'mess': 1059,\n",
       "         'law': 1058,\n",
       "         'upset': 1056,\n",
       "         'youd': 1054,\n",
       "         'drug': 1052,\n",
       "         'citi': 1052,\n",
       "         'hide': 1051,\n",
       "         'reach': 1049,\n",
       "         'plu': 1046,\n",
       "         'tast': 1042,\n",
       "         'hahaha': 1042,\n",
       "         'smoke': 1041,\n",
       "         'rai': 1040,\n",
       "         'stuck': 1039,\n",
       "         'longer': 1037,\n",
       "         'letter': 1037,\n",
       "         'inspir': 1037,\n",
       "         'challeng': 1035,\n",
       "         'yesterday': 1032,\n",
       "         'success': 1030,\n",
       "         'husband': 1028,\n",
       "         'fiction': 1027,\n",
       "         'nobodi': 1026,\n",
       "         'yep': 1025,\n",
       "         'spot': 1021,\n",
       "         'ind': 1019,\n",
       "         'genuin': 1018,\n",
       "         'discov': 1017,\n",
       "         'period': 1015,\n",
       "         'sport': 1013,\n",
       "         'claim': 1012,\n",
       "         'recommend': 1011,\n",
       "         'pull': 1007,\n",
       "         'conclu': 1006,\n",
       "         'somebodi': 1004,\n",
       "         'account': 1004,\n",
       "         'train': 1003,\n",
       "         'apart': 1002,\n",
       "         'tea': 1001,\n",
       "         'extravert': 997,\n",
       "         'event': 996,\n",
       "         'imgur': 993,\n",
       "         'equal': 991,\n",
       "         'combin': 991,\n",
       "         'intern': 991,\n",
       "         'horribl': 990,\n",
       "         'cloth': 989,\n",
       "         'stranger': 988,\n",
       "         'religi': 987,\n",
       "         'matur': 987,\n",
       "         'balanc': 986,\n",
       "         'secret': 986,\n",
       "         'warm': 984,\n",
       "         'profil': 983,\n",
       "         'silli': 982,\n",
       "         'accord': 982,\n",
       "         'kitteh': 981,\n",
       "         'reaction': 980,\n",
       "         'intellectu': 977,\n",
       "         'wall': 977,\n",
       "         'compliment': 976,\n",
       "         'averag': 976,\n",
       "         'earth': 974,\n",
       "         'peac': 973,\n",
       "         'jump': 972,\n",
       "         'none': 970,\n",
       "         'mad': 968,\n",
       "         'poor': 964,\n",
       "         'pattern': 963,\n",
       "         'version': 962,\n",
       "         'blush': 962,\n",
       "         'sensor': 960,\n",
       "         'disord': 959,\n",
       "         'philosophi': 958,\n",
       "         'freak': 956,\n",
       "         'convinc': 956,\n",
       "         'war': 954,\n",
       "         'improv': 953,\n",
       "         'eventu': 951,\n",
       "         'classic': 951,\n",
       "         'png': 950,\n",
       "         'fill': 950,\n",
       "         'favourit': 948,\n",
       "         'aw': 948,\n",
       "         'anger': 947,\n",
       "         'star': 947,\n",
       "         'provid': 945,\n",
       "         'door': 941,\n",
       "         'commit': 937,\n",
       "         'bunch': 937,\n",
       "         'googl': 933,\n",
       "         'sudden': 933,\n",
       "         'thinker': 932,\n",
       "         'vote': 931,\n",
       "         'flirt': 930,\n",
       "         'stare': 928,\n",
       "         'band': 925,\n",
       "         'childhood': 924,\n",
       "         'summer': 924,\n",
       "         'immedi': 919,\n",
       "         'feeler': 915,\n",
       "         'determin': 914,\n",
       "         'socion': 914,\n",
       "         'dri': 914,\n",
       "         'beat': 912,\n",
       "         'sick': 910,\n",
       "         'dress': 910,\n",
       "         'green': 905,\n",
       "         'forgot': 904,\n",
       "         'wake': 903,\n",
       "         'analyz': 900,\n",
       "         'drop': 898,\n",
       "         'design': 896,\n",
       "         'pop': 895,\n",
       "         'forward': 895,\n",
       "         'role': 890,\n",
       "         'solv': 889,\n",
       "         'wife': 883,\n",
       "         'sing': 882,\n",
       "         'paint': 882,\n",
       "         'program': 881,\n",
       "         'relax': 878,\n",
       "         'product': 877,\n",
       "         'educ': 876,\n",
       "         'ladi': 873,\n",
       "         'complex': 873,\n",
       "         'offend': 873,\n",
       "         ...})"
      ]
     },
     "execution_count": 25,
     "metadata": {},
     "output_type": "execute_result"
    }
   ],
   "source": [
    "vocab"
   ]
  },
  {
   "cell_type": "code",
   "execution_count": 26,
   "metadata": {},
   "outputs": [
    {
     "data": {
      "text/plain": [
       "98711"
      ]
     },
     "execution_count": 26,
     "metadata": {},
     "output_type": "execute_result"
    }
   ],
   "source": [
    "len(vocab)"
   ]
  },
  {
   "cell_type": "code",
   "execution_count": 27,
   "metadata": {},
   "outputs": [
    {
     "data": {
      "text/plain": [
       "(8675, 3)"
      ]
     },
     "execution_count": 27,
     "metadata": {},
     "output_type": "execute_result"
    }
   ],
   "source": [
    "data.shape"
   ]
  },
  {
   "cell_type": "markdown",
   "metadata": {},
   "source": [
    "#### prevent the overfit"
   ]
  },
  {
   "cell_type": "code",
   "execution_count": 28,
   "metadata": {},
   "outputs": [
    {
     "data": {
      "text/plain": [
       "['watch',\n",
       " 'medium',\n",
       " 'tumblr',\n",
       " 'jpg',\n",
       " 'moment',\n",
       " 'youtub',\n",
       " 'top',\n",
       " 'ten',\n",
       " 'play',\n",
       " 'life',\n",
       " 'chang',\n",
       " 'experi',\n",
       " 'repeat',\n",
       " 'today',\n",
       " 'may',\n",
       " 'perc',\n",
       " 'last',\n",
       " 'thing',\n",
       " 'friend',\n",
       " 'post',\n",
       " 'facebook',\n",
       " 'commit',\n",
       " 'suicid',\n",
       " 'next',\n",
       " 'day',\n",
       " 'rest',\n",
       " 'peac',\n",
       " 'hello',\n",
       " 'sorri',\n",
       " 'hear',\n",
       " 'natur',\n",
       " 'relationship',\n",
       " 'perfect',\n",
       " 'time',\n",
       " 'everi',\n",
       " 'exist',\n",
       " 'tri',\n",
       " 'figur',\n",
       " 'hard',\n",
       " 'upload',\n",
       " 'friendship',\n",
       " 'boy',\n",
       " 'girl',\n",
       " 'wp',\n",
       " 'content',\n",
       " 'home',\n",
       " 'design',\n",
       " 'welcom',\n",
       " 'stuff',\n",
       " 'red',\n",
       " 'master',\n",
       " 'game',\n",
       " 'set',\n",
       " 'match',\n",
       " 'least',\n",
       " 'minut',\n",
       " 'move',\n",
       " 'dont',\n",
       " 'mean',\n",
       " 'sit',\n",
       " 'mayb',\n",
       " 'altern',\n",
       " 'basic',\n",
       " 'come',\n",
       " 'three',\n",
       " 'youv',\n",
       " 'determin',\n",
       " 'type',\n",
       " 'want',\n",
       " 'would',\n",
       " 'like',\n",
       " 'use',\n",
       " 'given',\n",
       " 'cognit',\n",
       " 'function',\n",
       " 'left',\n",
       " 'ind',\n",
       " 'video',\n",
       " 'good',\n",
       " 'one',\n",
       " 'note',\n",
       " 'somewhat',\n",
       " 'subject',\n",
       " 'complet',\n",
       " 'death',\n",
       " 'dear',\n",
       " 'favorit',\n",
       " 'grow',\n",
       " 'current',\n",
       " 'cool',\n",
       " 'appear',\n",
       " 'late',\n",
       " 'sad',\n",
       " 'someon',\n",
       " 'everyon',\n",
       " 'wait',\n",
       " 'thought',\n",
       " 'confid',\n",
       " 'within',\n",
       " 'inner',\n",
       " 'world',\n",
       " 'id',\n",
       " 'enjoy',\n",
       " 'worri',\n",
       " 'peopl',\n",
       " 'alway',\n",
       " 'around',\n",
       " 'ladi',\n",
       " 'person',\n",
       " 'well',\n",
       " 'hey',\n",
       " 'main',\n",
       " 'social',\n",
       " 'live',\n",
       " 'conver',\n",
       " 'even',\n",
       " 'verbal',\n",
       " 'quick',\n",
       " 'realli',\n",
       " 'part',\n",
       " 'thread',\n",
       " 'requir',\n",
       " 'get',\n",
       " 'high',\n",
       " 'eat',\n",
       " 'someth',\n",
       " 'intellectu',\n",
       " 'follow',\n",
       " 'kiss',\n",
       " 'mani',\n",
       " 'sentenc',\n",
       " 'could',\n",
       " 'think',\n",
       " 'movi',\n",
       " 'health',\n",
       " 'class',\n",
       " 'clear',\n",
       " 'noth',\n",
       " 'pressur',\n",
       " 'whole',\n",
       " 'reason',\n",
       " 'two',\n",
       " 'babi',\n",
       " 'right',\n",
       " 'middl',\n",
       " 'blood',\n",
       " 'happen',\n",
       " 'wall',\n",
       " 'see',\n",
       " 'societi',\n",
       " 'becom',\n",
       " 'didnt',\n",
       " 'know',\n",
       " 'version',\n",
       " 'gif',\n",
       " 'net',\n",
       " 'artist',\n",
       " 'draw',\n",
       " 'idea',\n",
       " 'count',\n",
       " 'form',\n",
       " 'robot',\n",
       " 'self',\n",
       " 'proud',\n",
       " 'take',\n",
       " 'room',\n",
       " 'bed',\n",
       " 'ya',\n",
       " 'got',\n",
       " 'ta',\n",
       " 'learn',\n",
       " 'share',\n",
       " 'much',\n",
       " 'kind',\n",
       " 'yep',\n",
       " 'old',\n",
       " 'school',\n",
       " 'music',\n",
       " 'havent',\n",
       " 'heard',\n",
       " 'age',\n",
       " 'fail',\n",
       " 'public',\n",
       " 'speak',\n",
       " 'year',\n",
       " 'ago',\n",
       " 'sort',\n",
       " 'better',\n",
       " 'posit',\n",
       " 'big',\n",
       " 'mental',\n",
       " 'confirm',\n",
       " 'way',\n",
       " 'area',\n",
       " 'start',\n",
       " 'new',\n",
       " 'find',\n",
       " 'lack',\n",
       " 'sex',\n",
       " 'bore',\n",
       " 'often',\n",
       " 'exampl',\n",
       " 'girlfriend',\n",
       " 'environ',\n",
       " 'creativ',\n",
       " 'isnt',\n",
       " 'enough',\n",
       " 'give',\n",
       " 'theori',\n",
       " 'flirt',\n",
       " 'return',\n",
       " 'word',\n",
       " 'balanc',\n",
       " 'hand',\n",
       " 'eye',\n",
       " 'real',\n",
       " 'iq',\n",
       " 'test',\n",
       " 'score',\n",
       " 'internet',\n",
       " 'funni',\n",
       " 'higher',\n",
       " 'respon',\n",
       " 'mention',\n",
       " 'believ',\n",
       " 'site',\n",
       " 'half',\n",
       " 'still',\n",
       " 'comment',\n",
       " 'img',\n",
       " 'sometim',\n",
       " 'go',\n",
       " 'quot',\n",
       " 'perhap',\n",
       " 'man',\n",
       " 'special',\n",
       " 'knowledg',\n",
       " 'power',\n",
       " 'rather',\n",
       " 'encourag',\n",
       " 'seek',\n",
       " 'complex',\n",
       " 'never',\n",
       " 'judg',\n",
       " 'ne',\n",
       " 'ti',\n",
       " 'domin',\n",
       " 'fe',\n",
       " 'emot',\n",
       " 'rare',\n",
       " 'si',\n",
       " 'also',\n",
       " 'ni',\n",
       " 'due',\n",
       " 'strength',\n",
       " 'though',\n",
       " 'say',\n",
       " 'first',\n",
       " 'back',\n",
       " 'drive',\n",
       " 'look',\n",
       " 'rock',\n",
       " 'paper',\n",
       " 'best',\n",
       " 'make',\n",
       " 'lol',\n",
       " 'guy',\n",
       " 'lucki',\n",
       " 'system',\n",
       " 'hell',\n",
       " 'sound',\n",
       " 'manag',\n",
       " 'put',\n",
       " 'coupl',\n",
       " 'connect',\n",
       " 'awar',\n",
       " 'se',\n",
       " 'admit',\n",
       " 'heart',\n",
       " 'mix',\n",
       " 'notic',\n",
       " 'known',\n",
       " 'ill',\n",
       " 'away',\n",
       " 'mouth',\n",
       " 'wont',\n",
       " 'anyth',\n",
       " 'style',\n",
       " 'great',\n",
       " 'song',\n",
       " 'long',\n",
       " 'love',\n",
       " 'beat',\n",
       " 'drop',\n",
       " 'close',\n",
       " 'ball',\n",
       " 'background',\n",
       " 'extrovert',\n",
       " 'normal',\n",
       " 'book',\n",
       " 'said',\n",
       " 'except',\n",
       " 'call',\n",
       " 'photobucket',\n",
       " 'album',\n",
       " 'png',\n",
       " 'oh',\n",
       " 'fear',\n",
       " 'anim',\n",
       " 'tast',\n",
       " 'pretti',\n",
       " 'biggest',\n",
       " 'problem',\n",
       " 'impress',\n",
       " 'femal',\n",
       " 'okay',\n",
       " 'help',\n",
       " 'gay',\n",
       " 'develop',\n",
       " 'littl',\n",
       " 'crush',\n",
       " 'describ',\n",
       " 'worst',\n",
       " 'place',\n",
       " 'bia',\n",
       " 'shadow',\n",
       " 'hurt',\n",
       " 'turn',\n",
       " 'tell',\n",
       " 'typic',\n",
       " 'trait',\n",
       " 'check',\n",
       " 'list',\n",
       " 'seem',\n",
       " 'came',\n",
       " 'bad',\n",
       " 'weve',\n",
       " 'alreadi',\n",
       " 'reach',\n",
       " 'howev',\n",
       " 'deal',\n",
       " 'kick',\n",
       " 'lean',\n",
       " 'toward',\n",
       " 'easi',\n",
       " 'identifi',\n",
       " 'imagin',\n",
       " 'bit',\n",
       " 'mechan',\n",
       " 'shock',\n",
       " 'build',\n",
       " 'car',\n",
       " 'compliment',\n",
       " 'trust',\n",
       " 'theyr',\n",
       " 'weird',\n",
       " 'laugh',\n",
       " 'run',\n",
       " 'theme',\n",
       " 'usual',\n",
       " 'leav',\n",
       " 'end',\n",
       " 'work',\n",
       " 'mine',\n",
       " 'meet',\n",
       " 'damn',\n",
       " 'need',\n",
       " 'instinct',\n",
       " 'closer',\n",
       " 'respond',\n",
       " 'advic',\n",
       " 'wasnt',\n",
       " 'wouldnt',\n",
       " 'abl',\n",
       " 'becau',\n",
       " 'lose',\n",
       " 'knew',\n",
       " 'awesom',\n",
       " 'correct',\n",
       " 'stupid',\n",
       " 'wake',\n",
       " 'pm',\n",
       " 'stay',\n",
       " 'opinion',\n",
       " 'suggest',\n",
       " 'difficult',\n",
       " 'situat',\n",
       " 'random',\n",
       " 'open',\n",
       " 'glad',\n",
       " 'thank',\n",
       " 'made',\n",
       " 'sever',\n",
       " 'hour',\n",
       " 'line',\n",
       " 'avatar',\n",
       " 'later',\n",
       " 'fellow',\n",
       " 'doesnt',\n",
       " 'keep',\n",
       " 'cour',\n",
       " 'doe',\n",
       " 'absolut',\n",
       " 'amaz',\n",
       " 'ye',\n",
       " 'mad',\n",
       " 'case',\n",
       " 'feel',\n",
       " 'link',\n",
       " 'loop',\n",
       " 'topic',\n",
       " 'obsess',\n",
       " 'dead',\n",
       " 'stuck',\n",
       " 'mind',\n",
       " 'circl',\n",
       " 'truli',\n",
       " 'terribl',\n",
       " 'differ',\n",
       " 'ever',\n",
       " 'spot',\n",
       " 'face',\n",
       " 'incr',\n",
       " 'accur',\n",
       " 'beauti',\n",
       " 'descript',\n",
       " 'visit',\n",
       " 'websit',\n",
       " 'read',\n",
       " 'rememb',\n",
       " 'doubt',\n",
       " 'hi',\n",
       " 'write',\n",
       " 'sing',\n",
       " 'togeth',\n",
       " 'guitar',\n",
       " 'ish',\n",
       " 'seen',\n",
       " 'paint',\n",
       " 'entir',\n",
       " 'pick',\n",
       " 'human',\n",
       " 'felt',\n",
       " 'stori',\n",
       " 'blog',\n",
       " 'recent',\n",
       " 'interest',\n",
       " 'includ',\n",
       " 'probabl',\n",
       " 'model',\n",
       " 'upon',\n",
       " 'variou',\n",
       " 'sen',\n",
       " 'humor',\n",
       " 'nah',\n",
       " 'touch',\n",
       " 'scare',\n",
       " 'true',\n",
       " 'fact',\n",
       " 'neutral',\n",
       " 'actual',\n",
       " 'hug',\n",
       " 'onli',\n",
       " 'pop',\n",
       " 'head',\n",
       " 'shape',\n",
       " 'pictur',\n",
       " 'night',\n",
       " 'morn',\n",
       " 'order',\n",
       " 'hope',\n",
       " 'sleep',\n",
       " 'air',\n",
       " 'anyway',\n",
       " 'wish',\n",
       " 'ahead',\n",
       " 'deserv',\n",
       " 'wonder',\n",
       " 'issu',\n",
       " 'name',\n",
       " 'final',\n",
       " 'pattern',\n",
       " 'amu',\n",
       " 'skill',\n",
       " 'decid',\n",
       " 'fire',\n",
       " 'wast',\n",
       " 'food',\n",
       " 'care',\n",
       " 'understand',\n",
       " 'languag',\n",
       " 'adventur',\n",
       " 'angri',\n",
       " 'quit',\n",
       " 'surround',\n",
       " 'somewh',\n",
       " 'el',\n",
       " 'imposs',\n",
       " 'hide',\n",
       " 'anger',\n",
       " 'fake',\n",
       " 'yup',\n",
       " 'comfort',\n",
       " 'race',\n",
       " 'surviv',\n",
       " 'woman',\n",
       " 'abil',\n",
       " 'besid',\n",
       " 'occur',\n",
       " 'result',\n",
       " 'extrem',\n",
       " 'onlin',\n",
       " 'basi',\n",
       " 'visual',\n",
       " 'art',\n",
       " 'studi',\n",
       " 'field',\n",
       " 'generat',\n",
       " 'solv',\n",
       " 'import',\n",
       " 'specif',\n",
       " 'readi',\n",
       " 'intimid',\n",
       " 'offend',\n",
       " 'whi',\n",
       " 'must',\n",
       " 'show',\n",
       " 'reaction',\n",
       " 'univ',\n",
       " 'rule',\n",
       " 'code',\n",
       " 'creat',\n",
       " 'sincer',\n",
       " 'none',\n",
       " 'deep',\n",
       " 'depend',\n",
       " 'individu',\n",
       " 'prefer',\n",
       " 'everyth',\n",
       " 'either',\n",
       " 'core',\n",
       " 'indic',\n",
       " 'primari',\n",
       " 'motiv',\n",
       " 'action',\n",
       " 'therefor',\n",
       " 'particular',\n",
       " 'introvert',\n",
       " 'extravert',\n",
       " 'interact',\n",
       " 'alon',\n",
       " 'admir',\n",
       " 'busi',\n",
       " 'anoth',\n",
       " 'understood',\n",
       " 'fascin',\n",
       " 'train',\n",
       " 'op',\n",
       " 'awhil',\n",
       " 'fi',\n",
       " 'disagr',\n",
       " 'definit',\n",
       " 'mother',\n",
       " 'sick',\n",
       " 'similar',\n",
       " 'concern',\n",
       " 'collect',\n",
       " 'commun',\n",
       " 'pair',\n",
       " 'sure',\n",
       " 'let',\n",
       " 'previou',\n",
       " 'wow',\n",
       " 'nobodi',\n",
       " 'necessarili',\n",
       " 'equal',\n",
       " 'fine',\n",
       " 'break',\n",
       " 'talk',\n",
       " 'yeah',\n",
       " 'lot',\n",
       " 'longer',\n",
       " 'te',\n",
       " 'assumpt',\n",
       " 'whether',\n",
       " 'mom',\n",
       " 'fun',\n",
       " 'tea',\n",
       " 'dark',\n",
       " 'compar',\n",
       " 'logic',\n",
       " 'seri',\n",
       " 'edit',\n",
       " 'far',\n",
       " 'belief',\n",
       " 'appreci',\n",
       " 'level',\n",
       " 'detail',\n",
       " 'relat',\n",
       " 'certain',\n",
       " 'god',\n",
       " 'wan',\n",
       " 'na',\n",
       " 'wa',\n",
       " 'annoy',\n",
       " 'dislik',\n",
       " 'mbti',\n",
       " 'combin',\n",
       " 'observ',\n",
       " 'common',\n",
       " 'sx',\n",
       " 'veri',\n",
       " 'seriou',\n",
       " 'aggress',\n",
       " 'control',\n",
       " 'depth',\n",
       " 'answer',\n",
       " 'socion',\n",
       " 'interpret',\n",
       " 'argument',\n",
       " 'asshol',\n",
       " 'second',\n",
       " 'bare',\n",
       " 'refu',\n",
       " 'beyond',\n",
       " 'singl',\n",
       " 'refer',\n",
       " 'liter',\n",
       " 'analysi',\n",
       " 'happi',\n",
       " 'provid',\n",
       " 'assum',\n",
       " 'youll',\n",
       " 'process',\n",
       " 'initi',\n",
       " 'gener',\n",
       " 'accept',\n",
       " 'view',\n",
       " 'explan',\n",
       " 'huh',\n",
       " 'almost',\n",
       " 'bother',\n",
       " 'ask',\n",
       " 'intuit',\n",
       " 'evid',\n",
       " 'done',\n",
       " 'listen',\n",
       " 'messag',\n",
       " 'secret',\n",
       " 'point',\n",
       " 'context',\n",
       " 'math',\n",
       " 'number',\n",
       " 'saw',\n",
       " 'job',\n",
       " 'silli',\n",
       " 'whatev',\n",
       " 'throughout',\n",
       " 'potenti',\n",
       " 'everybodi',\n",
       " 'agr',\n",
       " 'profess',\n",
       " 'state',\n",
       " 'strike',\n",
       " 'approach',\n",
       " 'key',\n",
       " 'super',\n",
       " 'bo',\n",
       " 'month',\n",
       " 'crazi',\n",
       " 'cook',\n",
       " 'gone',\n",
       " 'lost',\n",
       " 'idiot',\n",
       " 'critic',\n",
       " 'shit',\n",
       " 'taken',\n",
       " 'project',\n",
       " 'gave',\n",
       " 'piec',\n",
       " 'store',\n",
       " 'manner',\n",
       " 'possibl',\n",
       " 'youtu',\n",
       " 'info',\n",
       " 'shut',\n",
       " 'went',\n",
       " 'marri',\n",
       " 'forum',\n",
       " 'question',\n",
       " 'scenario',\n",
       " 'suit',\n",
       " 'colleg',\n",
       " 'xd',\n",
       " 'men',\n",
       " 'direct',\n",
       " 'dream',\n",
       " 'ha',\n",
       " 'arent',\n",
       " 'brain',\n",
       " 'effort',\n",
       " 'valu',\n",
       " 'popular',\n",
       " 'lazi',\n",
       " 'instead',\n",
       " 'push',\n",
       " 'harder',\n",
       " 'child',\n",
       " 'cri',\n",
       " 'drink',\n",
       " 'sweet',\n",
       " 'water',\n",
       " 'dri',\n",
       " 'imag',\n",
       " 'claim',\n",
       " 'healthi',\n",
       " 'co',\n",
       " 'term',\n",
       " 'accomplish',\n",
       " 'without',\n",
       " 'involv',\n",
       " 'worth',\n",
       " 'entertain',\n",
       " 'debat',\n",
       " 'poor',\n",
       " 'correl',\n",
       " 'concept',\n",
       " 'polit',\n",
       " 'religion',\n",
       " 'moral',\n",
       " 'plenti',\n",
       " 'evil',\n",
       " 'achiev',\n",
       " 'goal',\n",
       " 'effect',\n",
       " 'perceiv',\n",
       " 'object',\n",
       " 'negat',\n",
       " 'solut',\n",
       " 'fuck',\n",
       " 'valid',\n",
       " 'hate',\n",
       " 'suck',\n",
       " 'bitch',\n",
       " 'remind',\n",
       " 'five',\n",
       " 'gain',\n",
       " 'parent',\n",
       " 'skin',\n",
       " 'wrong',\n",
       " 'energi',\n",
       " 'focu',\n",
       " 'written',\n",
       " 'met',\n",
       " 'scienc',\n",
       " 'scientif',\n",
       " 'inform',\n",
       " 'discov',\n",
       " 'ration',\n",
       " 'obviou',\n",
       " 'parti',\n",
       " 'found',\n",
       " 'method',\n",
       " 'although',\n",
       " 'bring',\n",
       " 'govern',\n",
       " 'surpri',\n",
       " 'googl',\n",
       " 'full',\n",
       " 'attract',\n",
       " 'wed',\n",
       " 'chocol',\n",
       " 'sinc',\n",
       " 'extern',\n",
       " 'intern',\n",
       " 'avoid',\n",
       " 'truth',\n",
       " 'tv',\n",
       " 'member',\n",
       " 'board',\n",
       " 'nice',\n",
       " 'express',\n",
       " 'privat',\n",
       " 'couldnt',\n",
       " 'alot',\n",
       " 'react',\n",
       " 'told',\n",
       " 'respect',\n",
       " 'ground',\n",
       " 'choic',\n",
       " 'teen',\n",
       " 'explor',\n",
       " 'smoke',\n",
       " 'addict',\n",
       " 'stop',\n",
       " 'cau',\n",
       " 'kill',\n",
       " 'themselv',\n",
       " 'sensor',\n",
       " 'anyon',\n",
       " 'took',\n",
       " 'short',\n",
       " 'attempt',\n",
       " 'light',\n",
       " 'ultim',\n",
       " 'consid',\n",
       " 'accord',\n",
       " 'plan',\n",
       " 'tomorrow',\n",
       " 'shot',\n",
       " 'slow',\n",
       " 'begin',\n",
       " 'fall',\n",
       " 'along',\n",
       " 'wrote',\n",
       " 'program',\n",
       " 'recogn',\n",
       " 'usernam',\n",
       " 'us',\n",
       " 'four',\n",
       " 'challeng',\n",
       " 'english',\n",
       " 'degr',\n",
       " 'realist',\n",
       " 'fantasi',\n",
       " 'letter',\n",
       " 'intend',\n",
       " 'anxieti',\n",
       " 'research',\n",
       " 'attach',\n",
       " 'tend',\n",
       " 'simpli',\n",
       " 'expect',\n",
       " 'remain',\n",
       " 'explain',\n",
       " 'atheist',\n",
       " 'religi',\n",
       " 'defin',\n",
       " 'practic',\n",
       " 'guess',\n",
       " 'text',\n",
       " 'appar',\n",
       " 'vote',\n",
       " 'fiction',\n",
       " 'writer',\n",
       " 'html',\n",
       " 'bold',\n",
       " 'father',\n",
       " 'sister',\n",
       " 'side',\n",
       " 'step',\n",
       " 'brother',\n",
       " 'arrog',\n",
       " 'leader',\n",
       " 'familiar',\n",
       " 'cant',\n",
       " 'nail',\n",
       " 'haha',\n",
       " 'suffer',\n",
       " 'daili',\n",
       " 'guilti',\n",
       " 'past',\n",
       " 'church',\n",
       " 'futur',\n",
       " 'tongu',\n",
       " 'christian',\n",
       " 'hold',\n",
       " 'childhood',\n",
       " 'older',\n",
       " 'physic',\n",
       " 'abu',\n",
       " 'upset',\n",
       " 'whenev',\n",
       " 'behaviour',\n",
       " 'zone',\n",
       " 'sake',\n",
       " 'pull',\n",
       " 'joke',\n",
       " 'origin',\n",
       " 'btw',\n",
       " 'pay',\n",
       " 'doubl',\n",
       " 'educ',\n",
       " 'over',\n",
       " 'stand',\n",
       " 'stress',\n",
       " 'stereotyp',\n",
       " 'statement',\n",
       " 'label',\n",
       " 'sourc',\n",
       " 'exact',\n",
       " 'buy',\n",
       " 'myer',\n",
       " 'brigg',\n",
       " 'onc',\n",
       " 'confess',\n",
       " 'broke',\n",
       " 'omg',\n",
       " 'blush',\n",
       " 'green',\n",
       " 'white',\n",
       " 'war',\n",
       " 'safe',\n",
       " 'grew',\n",
       " 'becam',\n",
       " 'abov',\n",
       " 'mode',\n",
       " 'lone',\n",
       " 'sudden',\n",
       " 'experienc',\n",
       " 'idealist',\n",
       " 'strong',\n",
       " 'especi',\n",
       " 'partner',\n",
       " 'wink',\n",
       " 'attent',\n",
       " 'anymor',\n",
       " 'earlier',\n",
       " 'young',\n",
       " 'catch',\n",
       " 'period',\n",
       " 'outsid',\n",
       " 'window',\n",
       " 'spirit',\n",
       " 'le',\n",
       " 'fit',\n",
       " 'club',\n",
       " 'anywh',\n",
       " 'danc',\n",
       " 'favourit',\n",
       " 'purpo',\n",
       " 'switch',\n",
       " 'romant',\n",
       " 'star',\n",
       " 'boyfriend',\n",
       " 'crowd',\n",
       " 'quiet',\n",
       " 'frequent',\n",
       " 'odd',\n",
       " 'bunch',\n",
       " 'toler',\n",
       " 'ani',\n",
       " 'free',\n",
       " 'desir',\n",
       " 'meant',\n",
       " 'interview',\n",
       " 'hmmm',\n",
       " 'input',\n",
       " 'page',\n",
       " 'genr',\n",
       " 'act',\n",
       " 'miss',\n",
       " 'unsur',\n",
       " 'standard',\n",
       " 'contribut',\n",
       " 'add',\n",
       " 'fight',\n",
       " 'benefit',\n",
       " 'distanc',\n",
       " 'perform',\n",
       " 'necessari',\n",
       " 'heavi',\n",
       " 'introv',\n",
       " 'lyric',\n",
       " 'mistak',\n",
       " 'task',\n",
       " 'lead',\n",
       " 'success',\n",
       " 'fan',\n",
       " 'die',\n",
       " 'present',\n",
       " 'compani',\n",
       " 'save',\n",
       " 'kinda',\n",
       " 'kept',\n",
       " 'regret',\n",
       " 'deepli',\n",
       " 'box',\n",
       " 'nope',\n",
       " 'reali',\n",
       " 'pain',\n",
       " 'low',\n",
       " 'deci',\n",
       " 'tie',\n",
       " 'ring',\n",
       " 'near',\n",
       " 'hou',\n",
       " 'chill',\n",
       " 'gather',\n",
       " 'cross',\n",
       " 'hmm',\n",
       " 'somehow',\n",
       " 'treat',\n",
       " 'huge',\n",
       " 'soul',\n",
       " 'percept',\n",
       " 'win',\n",
       " 'tough',\n",
       " 'matter',\n",
       " 'might',\n",
       " ...]"
      ]
     },
     "execution_count": 28,
     "metadata": {},
     "output_type": "execute_result"
    }
   ],
   "source": [
    "#by using tokens we can avoid ovefitting, in here we are doing reduce the vocabulary and make datapoints larger than tokens\n",
    "tokens = [key for key in vocab if vocab[key]>500]\n",
    "tokens"
   ]
  },
  {
   "cell_type": "code",
   "execution_count": 29,
   "metadata": {},
   "outputs": [
    {
     "data": {
      "text/plain": [
       "1498"
      ]
     },
     "execution_count": 29,
     "metadata": {},
     "output_type": "execute_result"
    }
   ],
   "source": [
    "len(tokens)"
   ]
  },
  {
   "cell_type": "code",
   "execution_count": 30,
   "metadata": {},
   "outputs": [],
   "source": [
    "#save the vocabulary\n",
    "def save_vocabulary(lines, filename):\n",
    "    data = '\\n'.join(lines)\n",
    "    file = open(filename,'w', encoding='utf-8')\n",
    "    file.write(data)\n",
    "    file.close()\n",
    "\n",
    "save_vocabulary(tokens, 'vocabulary.txt')    "
   ]
  },
  {
   "cell_type": "markdown",
   "metadata": {},
   "source": [
    "### Divide Dataset(splitting)"
   ]
  },
  {
   "cell_type": "code",
   "execution_count": 31,
   "metadata": {},
   "outputs": [],
   "source": [
    "x= data['posts']\n",
    "y= data['type']"
   ]
  },
  {
   "cell_type": "code",
   "execution_count": 32,
   "metadata": {},
   "outputs": [
    {
     "name": "stdout",
     "output_type": "stream",
     "text": [
      "Train set: (6940,) (6940,)\n",
      "Test set: (1735,) (1735,)\n"
     ]
    }
   ],
   "source": [
    "from sklearn.model_selection import train_test_split\n",
    "\n",
    "#divide the dataset into training and testion, we are devided the data set in to 20% for testing and 80% for training\n",
    "X_train, X_test, y_train, y_test = train_test_split(x, y, test_size=0.2)\n",
    "print(\"Train set:\", X_train.shape, y_train.shape)\n",
    "print(\"Test set:\", X_test.shape, y_test.shape)\n"
   ]
  },
  {
   "cell_type": "code",
   "execution_count": 33,
   "metadata": {},
   "outputs": [
    {
     "data": {
      "text/plain": [
       "4432    damn desir en wikipedia org wiki anthonythegre...\n",
       "6733    hello peopl personalitycaf havent long time fe...\n",
       "3458    plea sticki thread valu self evid alright than...\n",
       "2469    love languag word affirm like talk lot text pe...\n",
       "1284    live near seattl north move back week ago orig...\n",
       "Name: posts, dtype: object"
      ]
     },
     "execution_count": 33,
     "metadata": {},
     "output_type": "execute_result"
    }
   ],
   "source": [
    "\n",
    "X_train.head()"
   ]
  },
  {
   "cell_type": "code",
   "execution_count": 34,
   "metadata": {},
   "outputs": [
    {
     "data": {
      "text/plain": [
       "4432    INTP\n",
       "6733    INFP\n",
       "3458    INFJ\n",
       "2469    ENFP\n",
       "1284    INFJ\n",
       "Name: type, dtype: object"
      ]
     },
     "execution_count": 34,
     "metadata": {},
     "output_type": "execute_result"
    }
   ],
   "source": [
    "#show first five datas in training label set\n",
    "y_train.head()"
   ]
  },
  {
   "cell_type": "markdown",
   "metadata": {},
   "source": [
    "### Vectorization"
   ]
  },
  {
   "cell_type": "code",
   "execution_count": 35,
   "metadata": {},
   "outputs": [],
   "source": [
    "\n",
    "#change the test values to numarical values as matrix\n",
    "def vectorizer(ds, vocabulary):\n",
    "    vectorized_list = []\n",
    "\n",
    "    vocabulary_set = set(vocabulary)\n",
    "\n",
    "    for sentence in ds:\n",
    "        sentence_list = [1 if word in sentence else 0 for word in vocabulary]\n",
    "        vectorized_list.append(sentence_list)\n",
    "\n",
    "    vectorized_list_new = numpy.asarray(vectorized_list, dtype=numpy.float32)\n",
    "\n",
    "    return vectorized_list_new"
   ]
  },
  {
   "cell_type": "code",
   "execution_count": 36,
   "metadata": {},
   "outputs": [],
   "source": [
    "vectorized_x_train = vectorizer(X_train, tokens)\n"
   ]
  },
  {
   "cell_type": "code",
   "execution_count": 37,
   "metadata": {},
   "outputs": [
    {
     "name": "stdout",
     "output_type": "stream",
     "text": [
      "Total Elements: 10396120\n",
      "Non-Zero Count: 2648589\n",
      "Zero Count: 7747531\n"
     ]
    }
   ],
   "source": [
    "total_elements = vectorized_x_train.size\n",
    "non_zero_count = numpy.count_nonzero(vectorized_x_train)\n",
    "zero_count = total_elements - non_zero_count\n",
    "\n",
    "print(\"Total Elements:\", total_elements)\n",
    "print(\"Non-Zero Count:\", non_zero_count)\n",
    "print(\"Zero Count:\", zero_count) \n"
   ]
  },
  {
   "cell_type": "code",
   "execution_count": 38,
   "metadata": {},
   "outputs": [
    {
     "data": {
      "text/plain": [
       "array([[1., 0., 0., ..., 0., 0., 0.],\n",
       "       [1., 1., 1., ..., 0., 0., 0.],\n",
       "       [0., 1., 0., ..., 0., 0., 0.],\n",
       "       ...,\n",
       "       [1., 0., 0., ..., 0., 0., 0.],\n",
       "       [1., 0., 0., ..., 0., 0., 0.],\n",
       "       [0., 0., 0., ..., 0., 0., 0.]], dtype=float32)"
      ]
     },
     "execution_count": 38,
     "metadata": {},
     "output_type": "execute_result"
    }
   ],
   "source": [
    "vectorized_x_train"
   ]
  },
  {
   "cell_type": "code",
   "execution_count": 39,
   "metadata": {},
   "outputs": [],
   "source": [
    "vectorized_x_test = vectorizer(X_test, tokens)"
   ]
  },
  {
   "cell_type": "markdown",
   "metadata": {},
   "source": [
    "#### Vectorization of labels"
   ]
  },
  {
   "cell_type": "code",
   "execution_count": 40,
   "metadata": {},
   "outputs": [],
   "source": [
    "# labelization\n",
    "from sklearn.preprocessing import LabelBinarizer\n",
    "label_binarizer = LabelBinarizer()\n",
    "vectorized_y_train = label_binarizer.fit_transform(y_train)\n",
    "\n",
    "vectorized_y_test = label_binarizer.transform(y_test)\n"
   ]
  },
  {
   "cell_type": "code",
   "execution_count": 41,
   "metadata": {},
   "outputs": [
    {
     "name": "stdout",
     "output_type": "stream",
     "text": [
      "(6940, 16)\n"
     ]
    }
   ],
   "source": [
    "print(vectorized_y_train.shape)\n"
   ]
  },
  {
   "cell_type": "code",
   "execution_count": 43,
   "metadata": {},
   "outputs": [
    {
     "data": {
      "text/plain": [
       "type\n",
       "INFP    1438\n",
       "INFJ    1205\n",
       "INTP    1040\n",
       "INTJ     882\n",
       "ENTP     551\n",
       "ENFP     534\n",
       "ISTP     270\n",
       "ISFP     206\n",
       "ENTJ     182\n",
       "ENFJ     166\n",
       "ISTJ     166\n",
       "ISFJ     131\n",
       "ESTP      72\n",
       "ESFP      36\n",
       "ESFJ      33\n",
       "ESTJ      28\n",
       "Name: count, dtype: int64"
      ]
     },
     "execution_count": 43,
     "metadata": {},
     "output_type": "execute_result"
    }
   ],
   "source": [
    "y_train.value_counts()"
   ]
  },
  {
   "cell_type": "code",
   "execution_count": 42,
   "metadata": {},
   "outputs": [
    {
     "data": {
      "image/png": "[encoded data removed]",
      "text/plain": [
       "<Figure size 800x600 with 1 Axes>"
      ]
     },
     "metadata": {},
     "output_type": "display_data"
    }
   ],
   "source": [
    "class_counts = y_train.value_counts()\n",
    "\n",
    "# Plot the histogram\n",
    "plt.figure(figsize=(8, 6))\n",
    "class_counts.plot(kind='bar', color='skyblue')\n",
    "plt.title('Distribution of Classes')\n",
    "plt.xlabel('Class')\n",
    "plt.ylabel('Count')\n",
    "plt.show()\n"
   ]
  },
  {
   "cell_type": "markdown",
   "metadata": {},
   "source": [
    "### Handle imbalanced dataset"
   ]
  },
  {
   "cell_type": "code",
   "execution_count": 43,
   "metadata": {},
   "outputs": [
    {
     "name": "stdout",
     "output_type": "stream",
     "text": [
      "Requirement already satisfied: imbalanced-learn in c:\\users\\rpt\\anaconda3\\envs\\ml_env\\lib\\site-packages (0.11.0)\n",
      "Requirement already satisfied: numpy>=1.17.3 in c:\\users\\rpt\\anaconda3\\envs\\ml_env\\lib\\site-packages (from imbalanced-learn) (1.26.0)\n",
      "Requirement already satisfied: scipy>=1.5.0 in c:\\users\\rpt\\anaconda3\\envs\\ml_env\\lib\\site-packages (from imbalanced-learn) (1.11.4)\n",
      "Requirement already satisfied: scikit-learn>=1.0.2 in c:\\users\\rpt\\anaconda3\\envs\\ml_env\\lib\\site-packages (from imbalanced-learn) (1.3.0)\n",
      "Requirement already satisfied: joblib>=1.1.1 in c:\\users\\rpt\\anaconda3\\envs\\ml_env\\lib\\site-packages (from imbalanced-learn) (1.2.0)\n",
      "Requirement already satisfied: threadpoolctl>=2.0.0 in c:\\users\\rpt\\anaconda3\\envs\\ml_env\\lib\\site-packages (from imbalanced-learn) (2.2.0)\n"
     ]
    }
   ],
   "source": [
    "!pip install imbalanced-learn;"
   ]
  },
  {
   "cell_type": "code",
   "execution_count": 44,
   "metadata": {},
   "outputs": [
    {
     "name": "stdout",
     "output_type": "stream",
     "text": [
      "(23520, 1498) (23520,)\n"
     ]
    }
   ],
   "source": [
    "from imblearn.over_sampling import SMOTE\n",
    "\n",
    "smote = SMOTE()\n",
    "# get the train vectorized data\n",
    "vectorized_x_train_smote, y_train_smote = smote.fit_resample(vectorized_x_train, y_train)\n",
    "print(vectorized_x_train_smote.shape, y_train_smote.shape)\n",
    "\n"
   ]
  },
  {
   "cell_type": "code",
   "execution_count": 45,
   "metadata": {},
   "outputs": [
    {
     "data": {
      "text/plain": [
       "type\n",
       "INTP    1470\n",
       "INFP    1470\n",
       "INFJ    1470\n",
       "ENFP    1470\n",
       "ENTP    1470\n",
       "INTJ    1470\n",
       "ISFP    1470\n",
       "ISTJ    1470\n",
       "ISTP    1470\n",
       "ISFJ    1470\n",
       "ENTJ    1470\n",
       "ENFJ    1470\n",
       "ESTP    1470\n",
       "ESFJ    1470\n",
       "ESTJ    1470\n",
       "ESFP    1470\n",
       "Name: count, dtype: int64"
      ]
     },
     "execution_count": 45,
     "metadata": {},
     "output_type": "execute_result"
    }
   ],
   "source": [
    "y_train_smote.value_counts()"
   ]
  },
  {
   "cell_type": "code",
   "execution_count": 46,
   "metadata": {},
   "outputs": [
    {
     "data": {
      "image/png": "[encoded data removed]",
      "text/plain": [
       "<Figure size 1000x600 with 1 Axes>"
      ]
     },
     "metadata": {},
     "output_type": "display_data"
    }
   ],
   "source": [
    "# Count the occurrences of each class in the original y_train\n",
    "class_counts_original = y_train.value_counts()\n",
    "# Count the occurrences of each class in the y_train_smote\n",
    "class_counts_smote = y_train_smote.value_counts()\n",
    "\n",
    "# Plot the bar chart\n",
    "fig, ax = plt.subplots(figsize=(10, 6))\n",
    "class_counts_original.plot(kind='bar', color='skyblue', ax=ax, position=0, width=0.4, label='Original')\n",
    "class_counts_smote.plot(kind='bar', color='orange', ax=ax, position=1, width=0.4, label='SMOTE')\n",
    "ax.set_xlabel('Class')\n",
    "ax.set_ylabel('Count')\n",
    "ax.set_title('Class Distribution Before and After SMOTE')\n",
    "ax.legend()\n",
    "\n",
    "plt.show()\n"
   ]
  },
  {
   "cell_type": "code",
   "execution_count": 47,
   "metadata": {},
   "outputs": [
    {
     "data": {
      "text/plain": [
       "array([[1.        , 0.        , 0.        , ..., 0.        , 0.        ,\n",
       "        0.        ],\n",
       "       [1.        , 1.        , 1.        , ..., 0.        , 0.        ,\n",
       "        0.        ],\n",
       "       [0.        , 1.        , 0.        , ..., 0.        , 0.        ,\n",
       "        0.        ],\n",
       "       ...,\n",
       "       [1.        , 0.        , 0.1644804 , ..., 0.        , 0.        ,\n",
       "        0.        ],\n",
       "       [0.77578837, 0.        , 0.        , ..., 0.        , 0.        ,\n",
       "        0.        ],\n",
       "       [0.90082467, 0.        , 0.        , ..., 0.        , 0.90082467,\n",
       "        0.        ]], dtype=float32)"
      ]
     },
     "execution_count": 47,
     "metadata": {},
     "output_type": "execute_result"
    }
   ],
   "source": [
    "vectorized_x_train_smote"
   ]
  },
  {
   "cell_type": "code",
   "execution_count": 48,
   "metadata": {},
   "outputs": [
    {
     "data": {
      "text/plain": [
       "(23520, 1498)"
      ]
     },
     "execution_count": 48,
     "metadata": {},
     "output_type": "execute_result"
    }
   ],
   "source": [
    "vectorized_x_train_smote.shape"
   ]
  },
  {
   "cell_type": "code",
   "execution_count": 49,
   "metadata": {},
   "outputs": [
    {
     "data": {
      "text/plain": [
       "0        INTP\n",
       "1        INFP\n",
       "2        INFJ\n",
       "3        ENFP\n",
       "4        INFJ\n",
       "         ... \n",
       "23515    ISTP\n",
       "23516    ISTP\n",
       "23517    ISTP\n",
       "23518    ISTP\n",
       "23519    ISTP\n",
       "Name: type, Length: 23520, dtype: object"
      ]
     },
     "execution_count": 49,
     "metadata": {},
     "output_type": "execute_result"
    }
   ],
   "source": [
    "y_train_smote"
   ]
  },
  {
   "cell_type": "code",
   "execution_count": 50,
   "metadata": {},
   "outputs": [
    {
     "data": {
      "text/plain": [
       "array([[1., 0., 0., ..., 0., 0., 0.],\n",
       "       [0., 1., 1., ..., 0., 0., 0.],\n",
       "       [0., 0., 0., ..., 0., 0., 0.],\n",
       "       ...,\n",
       "       [0., 0., 0., ..., 0., 0., 0.],\n",
       "       [1., 0., 0., ..., 0., 0., 0.],\n",
       "       [1., 0., 0., ..., 0., 0., 0.]], dtype=float32)"
      ]
     },
     "execution_count": 50,
     "metadata": {},
     "output_type": "execute_result"
    }
   ],
   "source": [
    "vectorized_x_test"
   ]
  },
  {
   "cell_type": "code",
   "execution_count": 51,
   "metadata": {},
   "outputs": [
    {
     "data": {
      "text/plain": [
       "7311    INTP\n",
       "4200    INFP\n",
       "6755    ISTJ\n",
       "2610    ENFJ\n",
       "2093    INTP\n",
       "        ... \n",
       "6919    INFP\n",
       "8051    INTJ\n",
       "3052    ESTP\n",
       "6280    ISFP\n",
       "3900    INTJ\n",
       "Name: type, Length: 1735, dtype: object"
      ]
     },
     "execution_count": 51,
     "metadata": {},
     "output_type": "execute_result"
    }
   ],
   "source": [
    "y_test"
   ]
  },
  {
   "cell_type": "code",
   "execution_count": 52,
   "metadata": {},
   "outputs": [
    {
     "data": {
      "text/plain": [
       "array([[0, 0, 0, ..., 0, 0, 0],\n",
       "       [0, 0, 0, ..., 0, 0, 0],\n",
       "       [0, 0, 0, ..., 0, 1, 0],\n",
       "       ...,\n",
       "       [0, 0, 0, ..., 0, 0, 0],\n",
       "       [0, 0, 0, ..., 1, 0, 0],\n",
       "       [0, 0, 0, ..., 0, 0, 0]])"
      ]
     },
     "execution_count": 52,
     "metadata": {},
     "output_type": "execute_result"
    }
   ],
   "source": [
    "vectorized_y_test"
   ]
  },
  {
   "cell_type": "markdown",
   "metadata": {},
   "source": [
    "### model training and evaluation   "
   ]
  },
  {
   "cell_type": "code",
   "execution_count": 53,
   "metadata": {},
   "outputs": [],
   "source": [
    "from sklearn.metrics import accuracy_score, f1_score, precision_score, recall_score\n",
    "\n",
    "def training_scores(y_act, y_pred):\n",
    "    print(\"Actual values:\", y_act)\n",
    "    print(\"Predicted values:\", y_pred)\n",
    "\n",
    "    acc = round(accuracy_score(y_act, y_pred), 3)\n",
    "    pr = round(precision_score(y_act, y_pred, average='weighted'), 3)\n",
    "    rec = round(recall_score(y_act, y_pred, average='weighted'), 3)\n",
    "    f1 = round(f1_score(y_act, y_pred, average='weighted'), 3)\n",
    "\n",
    "    print(f'Training Scores:\\n\\tAccuracy = {acc}\\n\\tPrecision = {pr}\\n\\tRecall = {rec}\\n\\tF1.Score = {f1}')\n"
   ]
  },
  {
   "cell_type": "markdown",
   "metadata": {},
   "source": [
    "### Logistic Regression"
   ]
  },
  {
   "cell_type": "code",
   "execution_count": 54,
   "metadata": {},
   "outputs": [
    {
     "name": "stderr",
     "output_type": "stream",
     "text": [
      "c:\\Users\\RPT\\anaconda3\\envs\\ml_env\\lib\\site-packages\\sklearn\\linear_model\\_logistic.py:460: ConvergenceWarning: lbfgs failed to converge (status=1):\n",
      "STOP: TOTAL NO. of ITERATIONS REACHED LIMIT.\n",
      "\n",
      "Increase the number of iterations (max_iter) or scale the data as shown in:\n",
      "    https://scikit-learn.org/stable/modules/preprocessing.html\n",
      "Please also refer to the documentation for alternative solver options:\n",
      "    https://scikit-learn.org/stable/modules/linear_model.html#logistic-regression\n",
      "  n_iter_i = _check_optimize_result(\n"
     ]
    }
   ],
   "source": [
    "from sklearn.linear_model import LogisticRegression\n",
    "from sklearn.model_selection import train_test_split\n",
    "from imblearn.over_sampling import SMOTE\n",
    "\n",
    "lr= LogisticRegression()\n",
    "lr.fit(vectorized_x_train_smote, y_train_smote);\n"
   ]
  },
  {
   "cell_type": "code",
   "execution_count": 55,
   "metadata": {},
   "outputs": [],
   "source": [
    "y_train_pred = lr.predict(vectorized_x_train_smote)"
   ]
  },
  {
   "cell_type": "code",
   "execution_count": 56,
   "metadata": {},
   "outputs": [
    {
     "data": {
      "text/plain": [
       "array(['INFJ', 'INFP', 'INFJ', ..., 'ISTP', 'ISTP', 'ISTP'], dtype=object)"
      ]
     },
     "execution_count": 56,
     "metadata": {},
     "output_type": "execute_result"
    }
   ],
   "source": [
    "y_train_pred"
   ]
  },
  {
   "cell_type": "code",
   "execution_count": 57,
   "metadata": {},
   "outputs": [
    {
     "name": "stdout",
     "output_type": "stream",
     "text": [
      "Actual values: 0        INTP\n",
      "1        INFP\n",
      "2        INFJ\n",
      "3        ENFP\n",
      "4        INFJ\n",
      "         ... \n",
      "23515    ISTP\n",
      "23516    ISTP\n",
      "23517    ISTP\n",
      "23518    ISTP\n",
      "23519    ISTP\n",
      "Name: type, Length: 23520, dtype: object\n",
      "Predicted values: ['INFJ' 'INFP' 'INFJ' ... 'ISTP' 'ISTP' 'ISTP']\n",
      "Training Scores:\n",
      "\tAccuracy = 0.954\n",
      "\tPrecision = 0.954\n",
      "\tRecall = 0.954\n",
      "\tF1.Score = 0.954\n"
     ]
    }
   ],
   "source": [
    "training_scores(y_train_smote, y_train_pred)"
   ]
  },
  {
   "cell_type": "markdown",
   "metadata": {},
   "source": [
    "#### Cross validation of Logistic Regression"
   ]
  },
  {
   "cell_type": "code",
   "execution_count": 58,
   "metadata": {},
   "outputs": [],
   "source": [
    "from sklearn.model_selection import cross_val_score, cross_val_predict\n",
    "from sklearn.preprocessing import StandardScaler\n",
    "from sklearn.linear_model import LogisticRegression\n",
    "from sklearn.metrics import accuracy_score, precision_score, recall_score, f1_score\n",
    "\n",
    "\n",
    "\n",
    "# Standardize the features\n",
    "scaler = StandardScaler()\n",
    "vectorized_x_train_scaled = scaler.fit_transform(vectorized_x_train_smote)\n",
    "\n",
    "\n"
   ]
  },
  {
   "cell_type": "code",
   "execution_count": 59,
   "metadata": {},
   "outputs": [],
   "source": [
    "# Initialize the Logistic Regression model\n",
    "lr = LogisticRegression(max_iter=1000)\n",
    "\n",
    "# Perform cross-validation\n",
    "cv_scores = cross_val_score(lr, vectorized_x_train_scaled, y_train_smote, cv=5, scoring='accuracy')\n",
    "\n",
    "\n",
    "\n",
    "\n",
    "\n",
    "\n",
    "\n"
   ]
  },
  {
   "cell_type": "code",
   "execution_count": 60,
   "metadata": {},
   "outputs": [
    {
     "name": "stdout",
     "output_type": "stream",
     "text": [
      "Cross-validation accuracy scores: [0.78890306 0.80484694 0.8494898  0.89689626 0.95939626]\n",
      "Mean accuracy: 0.8599064625850341\n"
     ]
    }
   ],
   "source": [
    "# Print the cross-validation accuracy scores\n",
    "print(\"Cross-validation accuracy scores:\", cv_scores)\n",
    "print(\"Mean accuracy:\", cv_scores.mean())"
   ]
  },
  {
   "cell_type": "code",
   "execution_count": 61,
   "metadata": {},
   "outputs": [],
   "source": [
    "# Perform cross-validation predictions\n",
    "y_pred = cross_val_predict(lr, vectorized_x_train_scaled, y_train_smote, cv=5)"
   ]
  },
  {
   "cell_type": "code",
   "execution_count": 62,
   "metadata": {},
   "outputs": [
    {
     "name": "stdout",
     "output_type": "stream",
     "text": [
      "Precision: 0.8497219454237079\n",
      "Recall: 0.859906462585034\n",
      "F1-score: 0.8536885844881902\n"
     ]
    }
   ],
   "source": [
    "# Calculate precision, recall, and f1-score\n",
    "precision = precision_score(y_train_smote, y_pred, average='weighted')\n",
    "recall = recall_score(y_train_smote, y_pred, average='weighted')\n",
    "f1 = f1_score(y_train_smote, y_pred, average='weighted')\n",
    "\n",
    "# Print precision, recall, and f1-score\n",
    "print(\"Precision:\", precision)\n",
    "print(\"Recall:\", recall)\n",
    "print(\"F1-score:\", f1)"
   ]
  },
  {
   "cell_type": "markdown",
   "metadata": {},
   "source": [
    "#### Cofusion Matrix for Logistic regression"
   ]
  },
  {
   "cell_type": "code",
   "execution_count": 63,
   "metadata": {},
   "outputs": [
    {
     "name": "stdout",
     "output_type": "stream",
     "text": [
      "Confusion Matrix:\n",
      "[[1454    4    0    1    0    0    0    0    1    5    2    1    2    0\n",
      "     0    0]\n",
      " [  10 1256    1   31    0    1    0    1   40   67   20   23    2   11\n",
      "     4    3]\n",
      " [   2    0 1451    1    0    0    0    0    7    3    2    3    0    1\n",
      "     0    0]\n",
      " [   3   19   14 1243    0    0    0    3   29   32   42   57    3    6\n",
      "     4   15]\n",
      " [   0    0    0    0 1470    0    0    0    0    0    0    0    0    0\n",
      "     0    0]\n",
      " [   0    0    0    0    0 1470    0    0    0    0    0    0    0    0\n",
      "     0    0]\n",
      " [   0    0    0    0    0    0 1470    0    0    0    0    0    0    0\n",
      "     0    0]\n",
      " [   0    0    0    0    0    0    0 1470    0    0    0    0    0    0\n",
      "     0    0]\n",
      " [  31   96   22   58    1    1    0    2  715  258  107   93   14   26\n",
      "    23   23]\n",
      " [  39  132   12   57    1    0    0    2  339  545  103  141   23   35\n",
      "    17   24]\n",
      " [   6   37   27   69    0    0    2    3   84   53  992  145    3    6\n",
      "    14   29]\n",
      " [   4   34   22  105    0    0    0    3   90  111  138  884   10   19\n",
      "    11   39]\n",
      " [   0    0    0    0    0    0    0    0    1    2    0    0 1467    0\n",
      "     0    0]\n",
      " [   1    3    0    1    0    0    0    0    2   10    5    1    0 1446\n",
      "     0    1]\n",
      " [   0    0    0    1    0    0    0    0    1    4    7    1    0    0\n",
      "  1455    1]\n",
      " [   0    2    1    2    0    0    0    0    3    3    9   10    1    0\n",
      "     2 1437]]\n"
     ]
    }
   ],
   "source": [
    "from sklearn.metrics import confusion_matrix\n",
    "conf_matrix = confusion_matrix(y_train_smote, y_pred)\n",
    "print(\"Confusion Matrix:\")\n",
    "print(conf_matrix)"
   ]
  },
  {
   "cell_type": "code",
   "execution_count": 64,
   "metadata": {},
   "outputs": [
    {
     "name": "stdout",
     "output_type": "stream",
     "text": [
      "True Negative: 1454\n",
      "False Positive: 4\n",
      "False Negative: 10\n",
      "True Positive: 1256\n"
     ]
    }
   ],
   "source": [
    "true_negative = conf_matrix[0, 0]\n",
    "false_positive = conf_matrix[0, 1]\n",
    "false_negative = conf_matrix[1, 0]\n",
    "true_positive = conf_matrix[1, 1]\n",
    "\n",
    "print(\"True Negative:\", true_negative)\n",
    "print(\"False Positive:\", false_positive)\n",
    "print(\"False Negative:\", false_negative)\n",
    "print(\"True Positive:\", true_positive)"
   ]
  },
  {
   "cell_type": "code",
   "execution_count": 65,
   "metadata": {},
   "outputs": [
    {
     "data": {
      "image/png": "[encoded data removed]",
      "text/plain": [
       "<Figure size 800x600 with 2 Axes>"
      ]
     },
     "metadata": {},
     "output_type": "display_data"
    }
   ],
   "source": [
    "plt.figure(figsize=(8, 6))\n",
    "sns.heatmap(conf_matrix, annot=True, fmt=\"d\", cmap=\"Blues\", xticklabels=['Predicted 0', 'Predicted 1'], yticklabels=['Actual 0', 'Actual 1'])\n",
    "plt.xlabel('Predicted')\n",
    "plt.ylabel('Actual')\n",
    "plt.title('Confusion Matrix')\n",
    "plt.show()"
   ]
  },
  {
   "cell_type": "markdown",
   "metadata": {},
   "source": [
    "## Naive Bayes Algorithm"
   ]
  },
  {
   "cell_type": "code",
   "execution_count": 66,
   "metadata": {},
   "outputs": [],
   "source": [
    "from imblearn.over_sampling import SMOTE\n",
    "\n",
    "smote = SMOTE()\n",
    "vectorized_x_train_smote, y_train_smote = smote.fit_resample(vectorized_x_train, y_train)\n"
   ]
  },
  {
   "cell_type": "code",
   "execution_count": 67,
   "metadata": {},
   "outputs": [],
   "source": [
    "from imblearn.over_sampling import SMOTE\n",
    "\n",
    "smote = SMOTE()\n",
    "vectorized_x_train_smote, y_train_smote = smote.fit_resample(vectorized_x_train, y_train)\n"
   ]
  },
  {
   "cell_type": "code",
   "execution_count": 68,
   "metadata": {},
   "outputs": [],
   "source": [
    "nb_model = MultinomialNB()\n",
    "nb_model.fit(vectorized_x_train_smote, y_train_smote);\n"
   ]
  },
  {
   "cell_type": "code",
   "execution_count": 69,
   "metadata": {},
   "outputs": [],
   "source": [
    "y_test_pred = nb_model.predict(vectorized_x_test)\n"
   ]
  },
  {
   "cell_type": "code",
   "execution_count": 70,
   "metadata": {},
   "outputs": [
    {
     "name": "stdout",
     "output_type": "stream",
     "text": [
      "Accuracy: 0.308\n",
      "Precision: 0.308\n",
      "Recall: 0.308\n",
      "F1 Score: 0.306\n"
     ]
    },
    {
     "name": "stderr",
     "output_type": "stream",
     "text": [
      "c:\\Users\\RPT\\anaconda3\\envs\\ml_env\\lib\\site-packages\\sklearn\\metrics\\_classification.py:1469: UndefinedMetricWarning: Precision is ill-defined and being set to 0.0 in labels with no predicted samples. Use `zero_division` parameter to control this behavior.\n",
      "  _warn_prf(average, modifier, msg_start, len(result))\n"
     ]
    }
   ],
   "source": [
    "def evaluation_scores(y_actual, y_predicted):\n",
    "    acc = accuracy_score(y_actual, y_predicted)\n",
    "    pr = precision_score(y_actual, y_predicted, average='weighted')\n",
    "    rec = recall_score(y_actual, y_predicted, average='weighted')\n",
    "    f1 = f1_score(y_actual, y_predicted, average='weighted')\n",
    "\n",
    "    print(f'Accuracy: {acc:.3f}')\n",
    "    print(f'Precision: {pr:.3f}')\n",
    "    print(f'Recall: {rec:.3f}')\n",
    "    print(f'F1 Score: {f1:.3f}')\n",
    "\n",
    "# Call the function with your actual and predicted labels\n",
    "evaluation_scores(y_test, y_test_pred)\n"
   ]
  },
  {
   "cell_type": "markdown",
   "metadata": {},
   "source": [
    "#### Cross validation for Naive Bayes"
   ]
  },
  {
   "cell_type": "code",
   "execution_count": 71,
   "metadata": {},
   "outputs": [
    {
     "name": "stdout",
     "output_type": "stream",
     "text": [
      "Cross-validation scores (Naive Bayes): [0.53869048 0.6547619  0.69642857 0.70046769 0.69770408]\n",
      "Mean accuracy: 0.657610544217687\n"
     ]
    }
   ],
   "source": [
    "from sklearn.model_selection import cross_val_score\n",
    "from sklearn.naive_bayes import MultinomialNB\n",
    "nb_model = MultinomialNB()\n",
    "\n",
    "# Perform cross-validation\n",
    "cv_scores_nb = cross_val_score(nb_model, vectorized_x_train_smote, y_train_smote, cv=5)  # You can adjust the number of folds (cv) as needed\n",
    "\n",
    "# Print the cross-validation scores\n",
    "print(\"Cross-validation scores (Naive Bayes):\", cv_scores_nb)\n",
    "print(\"Mean accuracy:\", cv_scores_nb.mean())"
   ]
  },
  {
   "cell_type": "code",
   "execution_count": 72,
   "metadata": {},
   "outputs": [
    {
     "name": "stdout",
     "output_type": "stream",
     "text": [
      "Confusion Matrix (Naive Bayes):\n",
      "[[1085   27   15   36    0    0    0    0  134   78   51   24    9    6\n",
      "     0    5]\n",
      " [  40  811   30   78    0    0    0    2  166  156   47   40   17   53\n",
      "     3   27]\n",
      " [   1   28 1073   45    0    0    0    0   68   30  146   68    0    1\n",
      "     2    8]\n",
      " [   9   75   36  812    0    7    3   11   72   61  139  164    2   19\n",
      "     3   57]\n",
      " [   0   60    0   10 1286    0    0    0   64   14   22    2    7    0\n",
      "     0    5]\n",
      " [   6   21    3   76    0 1274    0    0   14   25   14    7   15   10\n",
      "     0    5]\n",
      " [   0   17   20   12    0    0 1277    0   28   16   53   41    0    0\n",
      "     0    6]\n",
      " [   2    3   11   84    0    0    0 1229   21   13   46   36    0    0\n",
      "     0   25]\n",
      " [  52  158   36   75    9    2    0    3  465  326  145   64   16   65\n",
      "    21   33]\n",
      " [  27  140   14   49    2    2    1    4  263  652   70  104   19   70\n",
      "    12   41]\n",
      " [  22   56   58   90    0    8    0   12   83   89  656  226   20   40\n",
      "    34   76]\n",
      " [   7   61   35  113    0    0    0    3   81  150  242  572   12   85\n",
      "    19   90]\n",
      " [   0   39   24   18    0    8    0    0   77   71   40   13 1112   28\n",
      "     6   34]\n",
      " [   5   64   16   26    0    0    0    3  101  126   25   42    4 1035\n",
      "     8   15]\n",
      " [   6   36    8   39    0    0    0    0   74   65  102   36    3    3\n",
      "  1064   34]\n",
      " [   4   36   28   67    0   10    0    0   55   37   71   76   12    7\n",
      "     3 1064]]\n"
     ]
    }
   ],
   "source": [
    "y_pred_nb = cross_val_predict(nb_model, vectorized_x_train_smote, y_train_smote, cv=5)\n",
    "conf_matrix_nb = confusion_matrix(y_train_smote, y_pred_nb)\n",
    "\n",
    "# Print the confusion matrix\n",
    "print(\"Confusion Matrix (Naive Bayes):\")\n",
    "print(conf_matrix_nb)"
   ]
  },
  {
   "cell_type": "code",
   "execution_count": 73,
   "metadata": {},
   "outputs": [
    {
     "name": "stdout",
     "output_type": "stream",
     "text": [
      "True Negative (Naive Bayes): 1085\n",
      "False Positive (Naive Bayes): 27\n",
      "False Negative (Naive Bayes): 40\n",
      "True Positive (Naive Bayes): 811\n"
     ]
    }
   ],
   "source": [
    "true_negative_nb = conf_matrix_nb[0, 0]\n",
    "false_positive_nb = conf_matrix_nb[0, 1]\n",
    "false_negative_nb = conf_matrix_nb[1, 0]\n",
    "true_positive_nb = conf_matrix_nb[1, 1]\n",
    "\n",
    "# Print the values\n",
    "print(\"True Negative (Naive Bayes):\", true_negative_nb)\n",
    "print(\"False Positive (Naive Bayes):\", false_positive_nb)\n",
    "print(\"False Negative (Naive Bayes):\", false_negative_nb)\n",
    "print(\"True Positive (Naive Bayes):\", true_positive_nb)"
   ]
  },
  {
   "cell_type": "markdown",
   "metadata": {},
   "source": [
    "### compare the two models accuracy before the validation"
   ]
  },
  {
   "cell_type": "code",
   "execution_count": 74,
   "metadata": {},
   "outputs": [
    {
     "name": "stderr",
     "output_type": "stream",
     "text": [
      "c:\\Users\\RPT\\anaconda3\\envs\\ml_env\\lib\\site-packages\\sklearn\\linear_model\\_logistic.py:460: ConvergenceWarning: lbfgs failed to converge (status=1):\n",
      "STOP: TOTAL NO. of ITERATIONS REACHED LIMIT.\n",
      "\n",
      "Increase the number of iterations (max_iter) or scale the data as shown in:\n",
      "    https://scikit-learn.org/stable/modules/preprocessing.html\n",
      "Please also refer to the documentation for alternative solver options:\n",
      "    https://scikit-learn.org/stable/modules/linear_model.html#logistic-regression\n",
      "  n_iter_i = _check_optimize_result(\n"
     ]
    },
    {
     "data": {
      "image/png": "[encoded data removed]",
      "text/plain": [
       "<Figure size 640x480 with 1 Axes>"
      ]
     },
     "metadata": {},
     "output_type": "display_data"
    }
   ],
   "source": [
    "import matplotlib.pyplot as plt\n",
    "lr = LogisticRegression()\n",
    "lr.fit(vectorized_x_train_smote, y_train_smote)\n",
    "nb = MultinomialNB()\n",
    "nb.fit(vectorized_x_train_smote, y_train_smote)\n",
    "y_train_pred_lr = lr.predict(vectorized_x_train_smote)\n",
    "y_train_pred_nb = nb.predict(vectorized_x_train_smote)\n",
    "\n",
    "accuracy_lr = accuracy_score(y_train_smote, y_train_pred_lr)\n",
    "accuracy_nb = accuracy_score(y_train_smote, y_train_pred_nb)\n",
    "\n",
    "labels = ['Logistic Regression', 'Naive Bayes']\n",
    "accuracies = [accuracy_lr, accuracy_nb]\n",
    "\n",
    "plt.bar(labels, accuracies)\n",
    "plt.ylabel('Accuracy')\n",
    "plt.title('Model Comparison')\n",
    "plt.show()\n"
   ]
  },
  {
   "cell_type": "markdown",
   "metadata": {},
   "source": [
    "### compare the two models accuracy after the validation"
   ]
  },
  {
   "cell_type": "code",
   "execution_count": 75,
   "metadata": {},
   "outputs": [
    {
     "name": "stderr",
     "output_type": "stream",
     "text": [
      "c:\\Users\\RPT\\anaconda3\\envs\\ml_env\\lib\\site-packages\\sklearn\\linear_model\\_logistic.py:460: ConvergenceWarning: lbfgs failed to converge (status=1):\n",
      "STOP: TOTAL NO. of ITERATIONS REACHED LIMIT.\n",
      "\n",
      "Increase the number of iterations (max_iter) or scale the data as shown in:\n",
      "    https://scikit-learn.org/stable/modules/preprocessing.html\n",
      "Please also refer to the documentation for alternative solver options:\n",
      "    https://scikit-learn.org/stable/modules/linear_model.html#logistic-regression\n",
      "  n_iter_i = _check_optimize_result(\n",
      "c:\\Users\\RPT\\anaconda3\\envs\\ml_env\\lib\\site-packages\\sklearn\\linear_model\\_logistic.py:460: ConvergenceWarning: lbfgs failed to converge (status=1):\n",
      "STOP: TOTAL NO. of ITERATIONS REACHED LIMIT.\n",
      "\n",
      "Increase the number of iterations (max_iter) or scale the data as shown in:\n",
      "    https://scikit-learn.org/stable/modules/preprocessing.html\n",
      "Please also refer to the documentation for alternative solver options:\n",
      "    https://scikit-learn.org/stable/modules/linear_model.html#logistic-regression\n",
      "  n_iter_i = _check_optimize_result(\n",
      "c:\\Users\\RPT\\anaconda3\\envs\\ml_env\\lib\\site-packages\\sklearn\\linear_model\\_logistic.py:460: ConvergenceWarning: lbfgs failed to converge (status=1):\n",
      "STOP: TOTAL NO. of ITERATIONS REACHED LIMIT.\n",
      "\n",
      "Increase the number of iterations (max_iter) or scale the data as shown in:\n",
      "    https://scikit-learn.org/stable/modules/preprocessing.html\n",
      "Please also refer to the documentation for alternative solver options:\n",
      "    https://scikit-learn.org/stable/modules/linear_model.html#logistic-regression\n",
      "  n_iter_i = _check_optimize_result(\n",
      "c:\\Users\\RPT\\anaconda3\\envs\\ml_env\\lib\\site-packages\\sklearn\\linear_model\\_logistic.py:460: ConvergenceWarning: lbfgs failed to converge (status=1):\n",
      "STOP: TOTAL NO. of ITERATIONS REACHED LIMIT.\n",
      "\n",
      "Increase the number of iterations (max_iter) or scale the data as shown in:\n",
      "    https://scikit-learn.org/stable/modules/preprocessing.html\n",
      "Please also refer to the documentation for alternative solver options:\n",
      "    https://scikit-learn.org/stable/modules/linear_model.html#logistic-regression\n",
      "  n_iter_i = _check_optimize_result(\n",
      "c:\\Users\\RPT\\anaconda3\\envs\\ml_env\\lib\\site-packages\\sklearn\\linear_model\\_logistic.py:460: ConvergenceWarning: lbfgs failed to converge (status=1):\n",
      "STOP: TOTAL NO. of ITERATIONS REACHED LIMIT.\n",
      "\n",
      "Increase the number of iterations (max_iter) or scale the data as shown in:\n",
      "    https://scikit-learn.org/stable/modules/preprocessing.html\n",
      "Please also refer to the documentation for alternative solver options:\n",
      "    https://scikit-learn.org/stable/modules/linear_model.html#logistic-regression\n",
      "  n_iter_i = _check_optimize_result(\n"
     ]
    },
    {
     "data": {
      "image/png": "[encoded data removed]",
      "text/plain": [
       "<Figure size 640x480 with 1 Axes>"
      ]
     },
     "metadata": {},
     "output_type": "display_data"
    }
   ],
   "source": [
    "import matplotlib.pyplot as plt\n",
    "cv_scores = cross_val_score(lr, vectorized_x_train_scaled, y_train_smote, cv=5)\n",
    "cv_scores_nb = cross_val_score(nb_model, vectorized_x_train_smote, y_train_smote, cv=5)\n",
    "\n",
    "# Plotting the comparison\n",
    "labels = ['Logistic Regression', 'Naive Bayes']\n",
    "scores = [cv_scores.mean(), cv_scores_nb.mean()]\n",
    "\n",
    "plt.bar(labels, scores)\n",
    "plt.ylabel('Mean Accuracy')\n",
    "plt.title('Model Comparison (Cross-Validation)')\n",
    "plt.show()\n"
   ]
  }
 ],
 "metadata": {
  "kernelspec": {
   "display_name": "ml_env",
   "language": "python",
   "name": "python3"
  },
  "language_info": {
   "codemirror_mode": {
    "name": "ipython",
    "version": 3
   },
   "file_extension": ".py",
   "mimetype": "text/x-python",
   "name": "python",
   "nbconvert_exporter": "python",
   "pygments_lexer": "ipython3",
   "version": "3.9.18"
  }
 },
 "nbformat": 4,
 "nbformat_minor": 2
}
